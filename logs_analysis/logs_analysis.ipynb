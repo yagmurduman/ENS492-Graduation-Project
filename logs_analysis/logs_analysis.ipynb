{
  "nbformat": 4,
  "nbformat_minor": 0,
  "metadata": {
    "colab": {
      "name": "logs_analysis.ipynb",
      "provenance": [],
      "collapsed_sections": [
        "zEDG_u-jhHqz"
      ]
    },
    "kernelspec": {
      "name": "python3",
      "display_name": "Python 3"
    },
    "language_info": {
      "name": "python"
    }
  },
  "cells": [
    {
      "cell_type": "markdown",
      "metadata": {
        "id": "ay90GlvNsJtH"
      },
      "source": [
        "## Import Libraries"
      ]
    },
    {
      "cell_type": "code",
      "metadata": {
        "colab": {
          "base_uri": "https://localhost:8080/"
        },
        "id": "cy7ynoRlY0vI",
        "outputId": "2cf7daf4-8674-478c-a906-4265077b6928"
      },
      "source": [
        "#!pip  install python-geoip\n",
        "#!pip install python-geoip-geolite2\n",
        "#!pip install maxminddb-geolite2\n",
        "#!pip install IP2Location\n",
        "#!pip install ip2geotools\n",
        "!pip install plotly==4.14.3"
      ],
      "execution_count": null,
      "outputs": [
        {
          "output_type": "stream",
          "text": [
            "Collecting plotly==4.14.3\n",
            "\u001b[?25l  Downloading https://files.pythonhosted.org/packages/1f/f6/bd3c17c8003b6641df1228e80e1acac97ed8402635e46c2571f8e1ef63af/plotly-4.14.3-py2.py3-none-any.whl (13.2MB)\n",
            "\u001b[K     |████████████████████████████████| 13.2MB 303kB/s \n",
            "\u001b[?25hRequirement already satisfied: retrying>=1.3.3 in /usr/local/lib/python3.7/dist-packages (from plotly==4.14.3) (1.3.3)\n",
            "Requirement already satisfied: six in /usr/local/lib/python3.7/dist-packages (from plotly==4.14.3) (1.15.0)\n",
            "Installing collected packages: plotly\n",
            "  Found existing installation: plotly 4.4.1\n",
            "    Uninstalling plotly-4.4.1:\n",
            "      Successfully uninstalled plotly-4.4.1\n",
            "Successfully installed plotly-4.14.3\n"
          ],
          "name": "stdout"
        }
      ]
    },
    {
      "cell_type": "code",
      "metadata": {
        "id": "4udRJVq0aRbm",
        "colab": {
          "base_uri": "https://localhost:8080/",
          "height": 35
        },
        "outputId": "6f09f8d4-e818-461e-c722-d24bb6d767d6"
      },
      "source": [
        "import csv\n",
        "import time\n",
        "import sys\n",
        "import os.path\n",
        "from os import path\n",
        "from pathlib import Path\n",
        "import pandas as pd\n",
        "import re\n",
        "import urllib.parse as urlparse\n",
        "from urllib.parse import unquote\n",
        "from urllib.parse import parse_qs\n",
        "import matplotlib.pyplot as plt\n",
        "import plotly.graph_objects as go\n",
        "\n",
        "'''\n",
        "from geolite2 import geolite2\n",
        "import IP2Location\n",
        "import requests\n",
        "import json \n",
        "from ip2geotools.databases.noncommercial import DbIpCity\n",
        "'''"
      ],
      "execution_count": null,
      "outputs": [
        {
          "output_type": "execute_result",
          "data": {
            "application/vnd.google.colaboratory.intrinsic+json": {
              "type": "string"
            },
            "text/plain": [
              "'\\nfrom geolite2 import geolite2\\nimport IP2Location\\nimport requests\\nimport json \\nfrom ip2geotools.databases.noncommercial import DbIpCity\\n'"
            ]
          },
          "metadata": {
            "tags": []
          },
          "execution_count": 1
        }
      ]
    },
    {
      "cell_type": "markdown",
      "metadata": {
        "id": "t_0bku3GsTUS"
      },
      "source": [
        "## Mount Drive"
      ]
    },
    {
      "cell_type": "code",
      "metadata": {
        "colab": {
          "base_uri": "https://localhost:8080/"
        },
        "id": "4hyhBWMHa2bM",
        "outputId": "ac597381-57df-4eed-f098-57a4519a3b97"
      },
      "source": [
        "from google.colab import drive\n",
        "drive.mount('/content/drive')"
      ],
      "execution_count": null,
      "outputs": [
        {
          "output_type": "stream",
          "text": [
            "Mounted at /content/drive\n"
          ],
          "name": "stdout"
        }
      ]
    },
    {
      "cell_type": "markdown",
      "metadata": {
        "id": "M-xZv8_Msy6u"
      },
      "source": [
        "## Injection Lookup Lists"
      ]
    },
    {
      "cell_type": "code",
      "metadata": {
        "id": "vkz6Fsb-lcfT"
      },
      "source": [
        "sqlInjectionCmd = [\" UNION \",\" SELECT \", \" ORDER BY \", \" WHERE \",\" CONCAT \", \" union \", \" select \", \" order by \", \" where \", \" concat \"]\n",
        "cmdInjectionCmd = [\"EXEC\", \"exec\", \"cmd\", \"chmod\", \"chown\", \"chgrp\", \"shell\", \"pwd\", \"ls\", \"whoami\", \"phpinfo()\", \"ipconfig\", \"exec\", \"system\", \"netstat\" \"cat\", \"curl\", \"sleep\", \"wget\", \"ping\", \"which\", \"etc/\", \"passwd\", \"md5(\"]\n",
        "urlComponents=[\"User-Agent\",\"Host\",\"Connection\",\"Content-Length\",\"Accept-Encoding\",\"Accept\",\"Content-Type\",\"Origin\",\"Action\",\"Authorization\",\"Referer\"]\n",
        "safeListFile = open(\"/content/drive/MyDrive/logs_analysis/safelist/\"+ inputFile +\"_safeList_URL.txt\")\n",
        "safeList_URL = safeListFile.read().splitlines()"
      ],
      "execution_count": null,
      "outputs": []
    },
    {
      "cell_type": "markdown",
      "metadata": {
        "id": "IE6PJI9oUeDu"
      },
      "source": [
        "## Functions"
      ]
    },
    {
      "cell_type": "code",
      "metadata": {
        "id": "kXuXy2l2jQBW"
      },
      "source": [
        "def isMalicious(rawLoad):\n",
        "    x = rawLoad.split(\"\\\\r\\\\n\")\n",
        "    userAgent = \"-\"\n",
        "    method = \"\"\n",
        "    url = \"\"\n",
        "    payload=\"-\"\n",
        "    comment = \"Nonmalicious\"\n",
        "    malicious = \"No\"\n",
        "\n",
        "    #find user-agent\n",
        "    for i in x:\n",
        "      value = re.findall(r\"(?<=\\: ).*\", i)\n",
        "      if i.lower().find(\"user-agent\") !=-1:\n",
        "        userAgent = value[0]\n",
        "\n",
        "    if userAgent.find(\"gobuster/3.1.0\") != -1:\n",
        "      return (\"Yes\", \"Link Brute Force\", userAgent)\n",
        "        \n",
        "    i=x[0]\n",
        "    if(i.find(\"b\\'\")!=-1 or i.find(\"b\\\"\")!=-1):\n",
        "        url = i\n",
        "        if(i.find(\"GET\") != -1):\n",
        "            if(re.search(\"HTTP\",url)):\n",
        "                url = re.findall(r\"(?<=GET )(.*)(?= HTTP)\",url)[0]\n",
        "                if url.find(\"/_ignition/execute-solution\") != -1:\n",
        "                  return (\"Yes\", \"Link Brute Force\", userAgent)\n",
        "            else:\n",
        "                url = re.findall(r\"(?<=GET )(.*)\",url)[0]\n",
        "            method = \"GET\"\n",
        "        elif(i.find(\"POST\") != -1):\n",
        "            if(re.search(\"HTTP\",url)):\n",
        "                  url = re.findall(r\"(?<=POST )(.*)(?= HTTP)\",url)[0]\n",
        "                  if url.find(\"/_ignition/execute-solution\") != -1:\n",
        "                    return (\"Yes\", \"Link Brute Force\", userAgent)\n",
        "            else:\n",
        "                  url = re.findall(r\"(?<=POST )(.*)\",url)[0]\n",
        "            method = \"POST\"\n",
        "        elif(i.find(\"CONNECT\") != -1):\n",
        "            url = re.findall(r\"(?<=CONNECT )(.*)(?= HTTP)\",url)[0]\n",
        "            method = \"CONNECT\"\n",
        "        elif(i.find(\"HEAD\") != -1):\n",
        "            url = re.findall(r\"(?<=HEAD )(.*)(?= HTTP)\",url)[0]\n",
        "            method = \"HEAD\"\n",
        "        else:\n",
        "            return (\"Unidentified\", \"Unidentified\",\"-\")\n",
        "\n",
        "   \n",
        "    # find payload\n",
        "    possible_payload= x[-1]\n",
        "    isPayloadFound = False\n",
        "    for comp in urlComponents:\n",
        "        if possible_payload.find(comp) != -1:\n",
        "          isPayloadFound = True\n",
        "          break\n",
        "    if isPayloadFound == False:\n",
        "      payload = possible_payload\n",
        "\n",
        "    # attacks   \n",
        "    if userAgent.find(\"sqlmap\") != -1:\n",
        "        malicious = \"Yes\"\n",
        "        comment=\"SQL Injection\"\n",
        "        userAgent = \"Sqlmap\"\n",
        "        return (malicious, comment,userAgent)\n",
        "    # research centers\n",
        "    elif userAgent.find(\"CensysInspect/1.1\") != -1:\n",
        "        malicious = \"No\"\n",
        "        comment=\"Research\"\n",
        "        userAgent = \"Censys Research\"\n",
        "        return (malicious, comment,userAgent)\n",
        "    elif userAgent.find(\"NetSystemsResearch\") != -1:\n",
        "        malicious = \"No\"\n",
        "        comment=\"Research\"\n",
        "        userAgent = \"NetSystems Research\"\n",
        "        return (malicious, comment,userAgent)\n",
        "    elif userAgent.find(\"masscan\") != -1:\n",
        "        malicious = \"No\"\n",
        "        comment=\"Research\"\n",
        "        userAgent = \"Masscan Research\"\n",
        "        return (malicious, comment,userAgent)\n",
        "    elif userAgent.find(\"Palo Alto\") != -1:\n",
        "        malicious = \"No\"\n",
        "        comment=\"Research\"\n",
        "        userAgent = \"Palo Alto Research\"\n",
        "        return (malicious, comment,userAgent)\n",
        "    elif userAgent.find(\"Project-Resonance\") != -1:\n",
        "        malicious = \"No\"\n",
        "        comment=\"Research\"\n",
        "        userAgent = \"Project-Resonance Research\"\n",
        "        return (malicious, comment,userAgent)\n",
        "    # webcrawl agent\n",
        "    elif userAgent.find(\"zgrab\") != -1:\n",
        "        malicious = \"No\"\n",
        "        comment=\"Research\"\n",
        "        userAgent = \"Zgrab Webcrawl\"    \n",
        "        return (malicious, comment,userAgent)\n",
        "    elif userAgent.find(\"Baiduspider\") != -1:\n",
        "        malicious = \"No\"\n",
        "        comment=\"Crawler\"\n",
        "        userAgent = \"Baidu Webcrawl\"\n",
        "        return (malicious, comment,userAgent)\n",
        "    elif userAgent.find(\"Googlebot\") != -1:\n",
        "        malicious = \"No\"\n",
        "        comment=\"Crawler\"\n",
        "        userAgent = \"Googlebot Webcrawl\"\n",
        "        return (malicious, comment,userAgent)\n",
        "\n",
        "    elif method == \"POST\" or method== \"GET\":        \n",
        "        parsed = urlparse.urlparse(url)\n",
        "        parsed_qs = unquote(parsed.query) \n",
        "\n",
        "        if parsed_qs.find(\"<script>\") != -1 or payload.find(\"<script>\")!=-1:\n",
        "            malicious = \"Yes\"\n",
        "            comment = \"XSS\"\n",
        "            return (malicious, comment, userAgent)\n",
        "        for cmd in sqlInjectionCmd:\n",
        "            if parsed_qs.find(cmd) != -1:\n",
        "                malicious = \"Yes\"\n",
        "                comment = \"SQL Injection\"\n",
        "                return (malicious, comment,userAgent)\n",
        "        for cmd in cmdInjectionCmd:\n",
        "            if url.find(cmd) != -1 or payload.find(cmd)!=-1:\n",
        "                malicious = \"Yes\"\n",
        "                comment = \"Command Injection\"\n",
        "                return (malicious, comment,userAgent)\n",
        "         \n",
        "    if malicious != \"Yes\":      # if still not classified as malicious and yet the url is not in safe list\n",
        "        if url == \"/\" :\n",
        "           return (\"No\",\"Nonmalicious\",userAgent)\n",
        "\n",
        "        for safeUrl in safeList_URL:\n",
        "            if  re.fullmatch(safeUrl,url)!=None:\n",
        "              return (\"No\",\"Nonmalicious\",userAgent)\n",
        "\n",
        "        return (\"Yes\",\"Link Brute Force\",userAgent)\n",
        "               \n",
        "        \n",
        "    return (malicious, comment,userAgent)\n"
      ],
      "execution_count": null,
      "outputs": []
    },
    {
      "cell_type": "markdown",
      "metadata": {
        "id": "naRDCXhYWv05"
      },
      "source": [
        "## Generate Labeled Attacks"
      ]
    },
    {
      "cell_type": "code",
      "metadata": {
        "id": "g9sCf9jrfsgh"
      },
      "source": [
        "inputFiles=[\"news1\", \"news2\", \"news3\", \"business1\", \"business2\", \"blog1\"]\n",
        "colNames = [\"time\",\"ip.src\",\"tcp.srcport\",\"ip.dst\",\"tcp.dstport\",\"raw.load\"]"
      ],
      "execution_count": null,
      "outputs": []
    },
    {
      "cell_type": "code",
      "metadata": {
        "id": "W1dyNPk_jbF-"
      },
      "source": [
        "for inputFile in inputFiles:\n",
        "  data = pd.read_csv(\"/content/drive/MyDrive/logs_analysis/combined/\"+ inputFile + \"_combined.csv\", delimiter=\",\", usecols=colNames )\n",
        "\n",
        "  safeListFile = open(\"/content/drive/MyDrive/logs_analysis/safelist/\"+ inputFile +\"_safeList_URL.txt\")\n",
        "  safeList_URL = safeListFile.read().splitlines()\n",
        "\n",
        "  outPath = \"/content/drive/MyDrive/logs_analysis/rule/\"+inputFile+\"_rule.csv\"\n",
        "  outFile = open(outPath, \"w+\")\n",
        "  outFile.write(\"time\\tip.src\\ttcp.srcport\\tip.dst\\ttcp.dstport\\traw.load\\tMalicious\\tComment\\tUser_Agent\"+\"\\n\")\n",
        "\n",
        "  for index in range (0,len(data)):\n",
        "    malicious, comment ,userAgent = isMalicious(data[\"raw.load\"][index])\n",
        "    \n",
        "    #ip=data[\"ip.src\"][index] \n",
        "    #location=getting_ip(ip)\n",
        "    outFile.write( str(data[\"time\"][index]) + \"\\t\" + str(data[\"ip.src\"][index]) + \"\\t\" +\n",
        "                      str(data[\"tcp.srcport\"][index]) + \"\\t\" +  str(data[\"ip.dst\"][index]) + \"\\t\" +\n",
        "                      str(data[\"tcp.dstport\"][index]) + \"\\t\" + str(data[\"raw.load\"][index]) + \"\\t\" +\n",
        "                      malicious + \"\\t\" + comment + \"\\t\" + userAgent +\"\\n\")\n",
        "    \n",
        "  outFile.close()"
      ],
      "execution_count": null,
      "outputs": []
    },
    {
      "cell_type": "markdown",
      "metadata": {
        "id": "gXUaLinva68s"
      },
      "source": [
        "## Analysis"
      ]
    },
    {
      "cell_type": "code",
      "metadata": {
        "id": "9pSXWZ-njyAY",
        "colab": {
          "base_uri": "https://localhost:8080/"
        },
        "outputId": "bfb55662-9676-40ad-928e-174bf1c39301"
      },
      "source": [
        "## merge files\n",
        "allDF = []\n",
        "for inputFile in inputFiles:\n",
        "  print(inputFile)\n",
        "  colNames = [\"time\",\"ip.src\",\"tcp.srcport\",\"ip.dst\",\"tcp.dstport\",\"raw.load\",\"Malicious\",\"Comment\",\"User_Agent\"]\n",
        "  dataToMerge = pd.read_csv(\"/content/drive/MyDrive/logs_analysis/rule/\"+ inputFile + \"_rule.csv\", delimiter=\"\\t\", usecols=colNames, error_bad_lines=False, engine ='python')\n",
        "  allDF.append(dataToMerge)\n",
        "\n",
        "combined_csv = pd.concat(allDF)\n",
        "combined_csv.to_csv(\"/content/drive/MyDrive/logs_analysis/rule/all_data.csv\", index=False, sep=\"\\t\")"
      ],
      "execution_count": null,
      "outputs": [
        {
          "output_type": "stream",
          "text": [
            "news1\n",
            "news2\n",
            "news3\n",
            "business1\n"
          ],
          "name": "stdout"
        },
        {
          "output_type": "stream",
          "text": [
            "Skipping line 1838: '\t' expected after '\"'\n",
            "Skipping line 619: '\t' expected after '\"'\n",
            "Skipping line 620: '\t' expected after '\"'\n",
            "Skipping line 621: '\t' expected after '\"'\n",
            "Skipping line 9262: '\t' expected after '\"'\n",
            "Skipping line 9264: '\t' expected after '\"'\n"
          ],
          "name": "stderr"
        },
        {
          "output_type": "stream",
          "text": [
            "business2\n",
            "blog1\n"
          ],
          "name": "stdout"
        },
        {
          "output_type": "stream",
          "text": [
            "Skipping line 185186: field larger than field limit (131072)\n"
          ],
          "name": "stderr"
        }
      ]
    },
    {
      "cell_type": "code",
      "metadata": {
        "id": "edUIxW_Aa8rs",
        "colab": {
          "base_uri": "https://localhost:8080/"
        },
        "outputId": "adf34a06-2ee2-4eec-b2f3-0b17e6284f52"
      },
      "source": [
        "## read files\n",
        "inputFile = inputFiles[5]\n",
        "print(inputFile)\n",
        "colNames = [\"time\",\"ip.src\",\"tcp.srcport\",\"ip.dst\",\"tcp.dstport\",\"raw.load\",\"Malicious\",\"Comment\",\"User_Agent\"]\n",
        "dataAnalyze = pd.read_csv(\"/content/drive/MyDrive/logs_analysis/rule/\"+ inputFile + \"_rule.csv\", delimiter=\"\\t\", usecols=colNames, error_bad_lines=False, engine ='python' )\n",
        "allData = pd.read_csv(\"/content/drive/MyDrive/logs_analysis/rule/all_data.csv\", delimiter=\"\\t\", usecols=colNames, error_bad_lines=False, engine ='python')"
      ],
      "execution_count": null,
      "outputs": [
        {
          "output_type": "stream",
          "text": [
            "blog1\n"
          ],
          "name": "stdout"
        },
        {
          "output_type": "stream",
          "text": [
            "Skipping line 185186: field larger than field limit (131072)\n"
          ],
          "name": "stderr"
        }
      ]
    },
    {
      "cell_type": "code",
      "metadata": {
        "colab": {
          "base_uri": "https://localhost:8080/",
          "height": 204
        },
        "id": "utu-4-xHdGNF",
        "outputId": "5810c95a-1a3f-4099-cdfd-876260248bbb"
      },
      "source": [
        "dataAnalyze.head()"
      ],
      "execution_count": null,
      "outputs": [
        {
          "output_type": "execute_result",
          "data": {
            "text/html": [
              "<div>\n",
              "<style scoped>\n",
              "    .dataframe tbody tr th:only-of-type {\n",
              "        vertical-align: middle;\n",
              "    }\n",
              "\n",
              "    .dataframe tbody tr th {\n",
              "        vertical-align: top;\n",
              "    }\n",
              "\n",
              "    .dataframe thead th {\n",
              "        text-align: right;\n",
              "    }\n",
              "</style>\n",
              "<table border=\"1\" class=\"dataframe\">\n",
              "  <thead>\n",
              "    <tr style=\"text-align: right;\">\n",
              "      <th></th>\n",
              "      <th>time</th>\n",
              "      <th>ip.src</th>\n",
              "      <th>tcp.srcport</th>\n",
              "      <th>ip.dst</th>\n",
              "      <th>tcp.dstport</th>\n",
              "      <th>raw.load</th>\n",
              "      <th>Malicious</th>\n",
              "      <th>Comment</th>\n",
              "      <th>User_Agent</th>\n",
              "    </tr>\n",
              "  </thead>\n",
              "  <tbody>\n",
              "    <tr>\n",
              "      <th>0</th>\n",
              "      <td>Thursday, 29/04/21, 08:44:38 AM</td>\n",
              "      <td>194.195.112.102</td>\n",
              "      <td>40206</td>\n",
              "      <td>172.18.0.3</td>\n",
              "      <td>80</td>\n",
              "      <td>b'GET /.env HTTP/1.1\\r\\nHost: 104.198.59.38\\r\\...</td>\n",
              "      <td>Yes</td>\n",
              "      <td>Link Brute Force</td>\n",
              "      <td>Mozilla/5.0 (X11; Linux x86_64) AppleWebKit/53...</td>\n",
              "    </tr>\n",
              "    <tr>\n",
              "      <th>1</th>\n",
              "      <td>Thursday, 29/04/21, 08:44:38 AM</td>\n",
              "      <td>194.195.112.102</td>\n",
              "      <td>40494</td>\n",
              "      <td>172.18.0.3</td>\n",
              "      <td>80</td>\n",
              "      <td>b'POST / HTTP/1.1\\r\\nHost: 104.198.59.38\\r\\nCo...</td>\n",
              "      <td>No</td>\n",
              "      <td>Nonmalicious</td>\n",
              "      <td>Mozilla/5.0 (X11; Linux x86_64) AppleWebKit/53...</td>\n",
              "    </tr>\n",
              "    <tr>\n",
              "      <th>2</th>\n",
              "      <td>Thursday, 29/04/21, 08:45:22 AM</td>\n",
              "      <td>114.119.150.85</td>\n",
              "      <td>13174</td>\n",
              "      <td>172.18.0.3</td>\n",
              "      <td>80</td>\n",
              "      <td>b'GET /robots.txt HTTP/1.1\\r\\nAccept: text/htm...</td>\n",
              "      <td>Yes</td>\n",
              "      <td>Link Brute Force</td>\n",
              "      <td>Mozilla/5.0 (compatible;PetalBot;+https://webm...</td>\n",
              "    </tr>\n",
              "    <tr>\n",
              "      <th>3</th>\n",
              "      <td>Tuesday, 27/04/21, 07:39:23 PM</td>\n",
              "      <td>209.17.96.210</td>\n",
              "      <td>53118</td>\n",
              "      <td>172.18.0.3</td>\n",
              "      <td>80</td>\n",
              "      <td>b'GET / HTTP/1.0\\r\\nUser-Agent: Mozilla/5.0 (c...</td>\n",
              "      <td>No</td>\n",
              "      <td>Nonmalicious</td>\n",
              "      <td>Mozilla/5.0 (compatible; Nimbostratus-Bot/v1.3...</td>\n",
              "    </tr>\n",
              "    <tr>\n",
              "      <th>4</th>\n",
              "      <td>Tuesday, 27/04/21, 08:12:09 PM</td>\n",
              "      <td>139.162.145.250</td>\n",
              "      <td>45922</td>\n",
              "      <td>172.18.0.3</td>\n",
              "      <td>80</td>\n",
              "      <td>b'\\x16\\x03\\x01\\x00u\\x01\\x00\\x00q\\x03\\x03Q&gt;\\xea...</td>\n",
              "      <td>Unidentified</td>\n",
              "      <td>Unidentified</td>\n",
              "      <td>-</td>\n",
              "    </tr>\n",
              "  </tbody>\n",
              "</table>\n",
              "</div>"
            ],
            "text/plain": [
              "                              time  ...                                         User_Agent\n",
              "0  Thursday, 29/04/21, 08:44:38 AM  ...  Mozilla/5.0 (X11; Linux x86_64) AppleWebKit/53...\n",
              "1  Thursday, 29/04/21, 08:44:38 AM  ...  Mozilla/5.0 (X11; Linux x86_64) AppleWebKit/53...\n",
              "2  Thursday, 29/04/21, 08:45:22 AM  ...  Mozilla/5.0 (compatible;PetalBot;+https://webm...\n",
              "3   Tuesday, 27/04/21, 07:39:23 PM  ...  Mozilla/5.0 (compatible; Nimbostratus-Bot/v1.3...\n",
              "4   Tuesday, 27/04/21, 08:12:09 PM  ...                                                  -\n",
              "\n",
              "[5 rows x 9 columns]"
            ]
          },
          "metadata": {
            "tags": []
          },
          "execution_count": 97
        }
      ]
    },
    {
      "cell_type": "code",
      "metadata": {
        "colab": {
          "base_uri": "https://localhost:8080/",
          "height": 542
        },
        "id": "2f07JmF2Z6Gg",
        "outputId": "bc5e57ff-7206-4fb0-afb2-a54d9e27c169"
      },
      "source": [
        "news1_counts = []\n",
        "news1_labels = []\n",
        "for item in dataAnalyze.Comment.value_counts().items():\n",
        "  if(item[0].find(\"Unidentified\")==-1):\n",
        "    news1_labels.append(item[0])\n",
        "    news1_counts.append(item[1])\n",
        "\n",
        "fig = go.Figure([go.Bar(x=news1_labels, y=news1_counts)])\n",
        "fig.update_layout(\n",
        "    title='Blog #1 Network Traffic Classification',\n",
        "    xaxis_tickfont_size=15,\n",
        "    yaxis=dict(\n",
        "        title='Counts',\n",
        "        titlefont_size=16,\n",
        "        tickfont_size=14,\n",
        "    ),\n",
        "    legend=dict(\n",
        "        x=0,\n",
        "        y=1.0,\n",
        "        bgcolor='rgba(255, 255, 255, 0)',\n",
        "        bordercolor='rgba(255, 255, 255, 0)'\n",
        "    ),\n",
        "    width=1000,\n",
        "    barmode='group',\n",
        "    bargap=0.15, # gap between bars of adjacent location coordinates.\n",
        "    bargroupgap=0.5, # gap between bars of the same location coordinate.\n",
        ")\n",
        "fig.update_traces(texttemplate='%{y:.2s}', textposition='outside')\n",
        "fig.show()"
      ],
      "execution_count": null,
      "outputs": [
        {
          "output_type": "display_data",
          "data": {
            "text/html": [
              "<html>\n",
              "<head><meta charset=\"utf-8\" /></head>\n",
              "<body>\n",
              "    <div>\n",
              "            <script src=\"https://cdnjs.cloudflare.com/ajax/libs/mathjax/2.7.5/MathJax.js?config=TeX-AMS-MML_SVG\"></script><script type=\"text/javascript\">if (window.MathJax) {MathJax.Hub.Config({SVG: {font: \"STIX-Web\"}});}</script>\n",
              "                <script type=\"text/javascript\">window.PlotlyConfig = {MathJaxConfig: 'local'};</script>\n",
              "        <script src=\"https://cdn.plot.ly/plotly-latest.min.js\"></script>    \n",
              "            <div id=\"f9f9d457-3c04-40c0-abdb-63715db2c4d4\" class=\"plotly-graph-div\" style=\"height:525px; width:1000px;\"></div>\n",
              "            <script type=\"text/javascript\">\n",
              "                \n",
              "                    window.PLOTLYENV=window.PLOTLYENV || {};\n",
              "                    \n",
              "                if (document.getElementById(\"f9f9d457-3c04-40c0-abdb-63715db2c4d4\")) {\n",
              "                    Plotly.newPlot(\n",
              "                        'f9f9d457-3c04-40c0-abdb-63715db2c4d4',\n",
              "                        [{\"textposition\": \"outside\", \"texttemplate\": \"%{y:.2s}\", \"type\": \"bar\", \"x\": [\"Nonmalicious\", \"Link Brute Force\", \"Command Injection\", \"SQL Injection\", \"Research\", \"Crawler\", \"XSS\"], \"y\": [192004, 5913, 2429, 724, 223, 10, 2]}],\n",
              "                        {\"bargap\": 0.15, \"bargroupgap\": 0.5, \"barmode\": \"group\", \"legend\": {\"bgcolor\": \"rgba(255, 255, 255, 0)\", \"bordercolor\": \"rgba(255, 255, 255, 0)\", \"x\": 0, \"y\": 1.0}, \"template\": {\"data\": {\"bar\": [{\"error_x\": {\"color\": \"#2a3f5f\"}, \"error_y\": {\"color\": \"#2a3f5f\"}, \"marker\": {\"line\": {\"color\": \"#E5ECF6\", \"width\": 0.5}}, \"type\": \"bar\"}], \"barpolar\": [{\"marker\": {\"line\": {\"color\": \"#E5ECF6\", \"width\": 0.5}}, \"type\": \"barpolar\"}], \"carpet\": [{\"aaxis\": {\"endlinecolor\": \"#2a3f5f\", \"gridcolor\": \"white\", \"linecolor\": \"white\", \"minorgridcolor\": \"white\", \"startlinecolor\": \"#2a3f5f\"}, \"baxis\": {\"endlinecolor\": \"#2a3f5f\", \"gridcolor\": \"white\", \"linecolor\": \"white\", \"minorgridcolor\": \"white\", \"startlinecolor\": \"#2a3f5f\"}, \"type\": \"carpet\"}], \"choropleth\": [{\"colorbar\": {\"outlinewidth\": 0, \"ticks\": \"\"}, \"type\": \"choropleth\"}], \"contour\": [{\"colorbar\": {\"outlinewidth\": 0, \"ticks\": \"\"}, \"colorscale\": [[0.0, \"#0d0887\"], [0.1111111111111111, \"#46039f\"], [0.2222222222222222, \"#7201a8\"], [0.3333333333333333, \"#9c179e\"], [0.4444444444444444, \"#bd3786\"], [0.5555555555555556, \"#d8576b\"], [0.6666666666666666, \"#ed7953\"], [0.7777777777777778, \"#fb9f3a\"], [0.8888888888888888, \"#fdca26\"], [1.0, \"#f0f921\"]], \"type\": \"contour\"}], \"contourcarpet\": [{\"colorbar\": {\"outlinewidth\": 0, \"ticks\": \"\"}, \"type\": \"contourcarpet\"}], \"heatmap\": [{\"colorbar\": {\"outlinewidth\": 0, \"ticks\": \"\"}, \"colorscale\": [[0.0, \"#0d0887\"], [0.1111111111111111, \"#46039f\"], [0.2222222222222222, \"#7201a8\"], [0.3333333333333333, \"#9c179e\"], [0.4444444444444444, \"#bd3786\"], [0.5555555555555556, \"#d8576b\"], [0.6666666666666666, \"#ed7953\"], [0.7777777777777778, \"#fb9f3a\"], [0.8888888888888888, \"#fdca26\"], [1.0, \"#f0f921\"]], \"type\": \"heatmap\"}], \"heatmapgl\": [{\"colorbar\": {\"outlinewidth\": 0, \"ticks\": \"\"}, \"colorscale\": [[0.0, \"#0d0887\"], [0.1111111111111111, \"#46039f\"], [0.2222222222222222, \"#7201a8\"], [0.3333333333333333, \"#9c179e\"], [0.4444444444444444, \"#bd3786\"], [0.5555555555555556, \"#d8576b\"], [0.6666666666666666, \"#ed7953\"], [0.7777777777777778, \"#fb9f3a\"], [0.8888888888888888, \"#fdca26\"], [1.0, \"#f0f921\"]], \"type\": \"heatmapgl\"}], \"histogram\": [{\"marker\": {\"colorbar\": {\"outlinewidth\": 0, \"ticks\": \"\"}}, \"type\": \"histogram\"}], \"histogram2d\": [{\"colorbar\": {\"outlinewidth\": 0, \"ticks\": \"\"}, \"colorscale\": [[0.0, \"#0d0887\"], [0.1111111111111111, \"#46039f\"], [0.2222222222222222, \"#7201a8\"], [0.3333333333333333, \"#9c179e\"], [0.4444444444444444, \"#bd3786\"], [0.5555555555555556, \"#d8576b\"], [0.6666666666666666, \"#ed7953\"], [0.7777777777777778, \"#fb9f3a\"], [0.8888888888888888, \"#fdca26\"], [1.0, \"#f0f921\"]], \"type\": \"histogram2d\"}], \"histogram2dcontour\": [{\"colorbar\": {\"outlinewidth\": 0, \"ticks\": \"\"}, \"colorscale\": [[0.0, \"#0d0887\"], [0.1111111111111111, \"#46039f\"], [0.2222222222222222, \"#7201a8\"], [0.3333333333333333, \"#9c179e\"], [0.4444444444444444, \"#bd3786\"], [0.5555555555555556, \"#d8576b\"], [0.6666666666666666, \"#ed7953\"], [0.7777777777777778, \"#fb9f3a\"], [0.8888888888888888, \"#fdca26\"], [1.0, \"#f0f921\"]], \"type\": \"histogram2dcontour\"}], \"mesh3d\": [{\"colorbar\": {\"outlinewidth\": 0, \"ticks\": \"\"}, \"type\": \"mesh3d\"}], \"parcoords\": [{\"line\": {\"colorbar\": {\"outlinewidth\": 0, \"ticks\": \"\"}}, \"type\": \"parcoords\"}], \"pie\": [{\"automargin\": true, \"type\": \"pie\"}], \"scatter\": [{\"marker\": {\"colorbar\": {\"outlinewidth\": 0, \"ticks\": \"\"}}, \"type\": \"scatter\"}], \"scatter3d\": [{\"line\": {\"colorbar\": {\"outlinewidth\": 0, \"ticks\": \"\"}}, \"marker\": {\"colorbar\": {\"outlinewidth\": 0, \"ticks\": \"\"}}, \"type\": \"scatter3d\"}], \"scattercarpet\": [{\"marker\": {\"colorbar\": {\"outlinewidth\": 0, \"ticks\": \"\"}}, \"type\": \"scattercarpet\"}], \"scattergeo\": [{\"marker\": {\"colorbar\": {\"outlinewidth\": 0, \"ticks\": \"\"}}, \"type\": \"scattergeo\"}], \"scattergl\": [{\"marker\": {\"colorbar\": {\"outlinewidth\": 0, \"ticks\": \"\"}}, \"type\": \"scattergl\"}], \"scattermapbox\": [{\"marker\": {\"colorbar\": {\"outlinewidth\": 0, \"ticks\": \"\"}}, \"type\": \"scattermapbox\"}], \"scatterpolar\": [{\"marker\": {\"colorbar\": {\"outlinewidth\": 0, \"ticks\": \"\"}}, \"type\": \"scatterpolar\"}], \"scatterpolargl\": [{\"marker\": {\"colorbar\": {\"outlinewidth\": 0, \"ticks\": \"\"}}, \"type\": \"scatterpolargl\"}], \"scatterternary\": [{\"marker\": {\"colorbar\": {\"outlinewidth\": 0, \"ticks\": \"\"}}, \"type\": \"scatterternary\"}], \"surface\": [{\"colorbar\": {\"outlinewidth\": 0, \"ticks\": \"\"}, \"colorscale\": [[0.0, \"#0d0887\"], [0.1111111111111111, \"#46039f\"], [0.2222222222222222, \"#7201a8\"], [0.3333333333333333, \"#9c179e\"], [0.4444444444444444, \"#bd3786\"], [0.5555555555555556, \"#d8576b\"], [0.6666666666666666, \"#ed7953\"], [0.7777777777777778, \"#fb9f3a\"], [0.8888888888888888, \"#fdca26\"], [1.0, \"#f0f921\"]], \"type\": \"surface\"}], \"table\": [{\"cells\": {\"fill\": {\"color\": \"#EBF0F8\"}, \"line\": {\"color\": \"white\"}}, \"header\": {\"fill\": {\"color\": \"#C8D4E3\"}, \"line\": {\"color\": \"white\"}}, \"type\": \"table\"}]}, \"layout\": {\"annotationdefaults\": {\"arrowcolor\": \"#2a3f5f\", \"arrowhead\": 0, \"arrowwidth\": 1}, \"coloraxis\": {\"colorbar\": {\"outlinewidth\": 0, \"ticks\": \"\"}}, \"colorscale\": {\"diverging\": [[0, \"#8e0152\"], [0.1, \"#c51b7d\"], [0.2, \"#de77ae\"], [0.3, \"#f1b6da\"], [0.4, \"#fde0ef\"], [0.5, \"#f7f7f7\"], [0.6, \"#e6f5d0\"], [0.7, \"#b8e186\"], [0.8, \"#7fbc41\"], [0.9, \"#4d9221\"], [1, \"#276419\"]], \"sequential\": [[0.0, \"#0d0887\"], [0.1111111111111111, \"#46039f\"], [0.2222222222222222, \"#7201a8\"], [0.3333333333333333, \"#9c179e\"], [0.4444444444444444, \"#bd3786\"], [0.5555555555555556, \"#d8576b\"], [0.6666666666666666, \"#ed7953\"], [0.7777777777777778, \"#fb9f3a\"], [0.8888888888888888, \"#fdca26\"], [1.0, \"#f0f921\"]], \"sequentialminus\": [[0.0, \"#0d0887\"], [0.1111111111111111, \"#46039f\"], [0.2222222222222222, \"#7201a8\"], [0.3333333333333333, \"#9c179e\"], [0.4444444444444444, \"#bd3786\"], [0.5555555555555556, \"#d8576b\"], [0.6666666666666666, \"#ed7953\"], [0.7777777777777778, \"#fb9f3a\"], [0.8888888888888888, \"#fdca26\"], [1.0, \"#f0f921\"]]}, \"colorway\": [\"#636efa\", \"#EF553B\", \"#00cc96\", \"#ab63fa\", \"#FFA15A\", \"#19d3f3\", \"#FF6692\", \"#B6E880\", \"#FF97FF\", \"#FECB52\"], \"font\": {\"color\": \"#2a3f5f\"}, \"geo\": {\"bgcolor\": \"white\", \"lakecolor\": \"white\", \"landcolor\": \"#E5ECF6\", \"showlakes\": true, \"showland\": true, \"subunitcolor\": \"white\"}, \"hoverlabel\": {\"align\": \"left\"}, \"hovermode\": \"closest\", \"mapbox\": {\"style\": \"light\"}, \"paper_bgcolor\": \"white\", \"plot_bgcolor\": \"#E5ECF6\", \"polar\": {\"angularaxis\": {\"gridcolor\": \"white\", \"linecolor\": \"white\", \"ticks\": \"\"}, \"bgcolor\": \"#E5ECF6\", \"radialaxis\": {\"gridcolor\": \"white\", \"linecolor\": \"white\", \"ticks\": \"\"}}, \"scene\": {\"xaxis\": {\"backgroundcolor\": \"#E5ECF6\", \"gridcolor\": \"white\", \"gridwidth\": 2, \"linecolor\": \"white\", \"showbackground\": true, \"ticks\": \"\", \"zerolinecolor\": \"white\"}, \"yaxis\": {\"backgroundcolor\": \"#E5ECF6\", \"gridcolor\": \"white\", \"gridwidth\": 2, \"linecolor\": \"white\", \"showbackground\": true, \"ticks\": \"\", \"zerolinecolor\": \"white\"}, \"zaxis\": {\"backgroundcolor\": \"#E5ECF6\", \"gridcolor\": \"white\", \"gridwidth\": 2, \"linecolor\": \"white\", \"showbackground\": true, \"ticks\": \"\", \"zerolinecolor\": \"white\"}}, \"shapedefaults\": {\"line\": {\"color\": \"#2a3f5f\"}}, \"ternary\": {\"aaxis\": {\"gridcolor\": \"white\", \"linecolor\": \"white\", \"ticks\": \"\"}, \"baxis\": {\"gridcolor\": \"white\", \"linecolor\": \"white\", \"ticks\": \"\"}, \"bgcolor\": \"#E5ECF6\", \"caxis\": {\"gridcolor\": \"white\", \"linecolor\": \"white\", \"ticks\": \"\"}}, \"title\": {\"x\": 0.05}, \"xaxis\": {\"automargin\": true, \"gridcolor\": \"white\", \"linecolor\": \"white\", \"ticks\": \"\", \"title\": {\"standoff\": 15}, \"zerolinecolor\": \"white\", \"zerolinewidth\": 2}, \"yaxis\": {\"automargin\": true, \"gridcolor\": \"white\", \"linecolor\": \"white\", \"ticks\": \"\", \"title\": {\"standoff\": 15}, \"zerolinecolor\": \"white\", \"zerolinewidth\": 2}}}, \"title\": {\"text\": \"Blog #1 Network Traffic Classification\"}, \"width\": 1000, \"xaxis\": {\"tickfont\": {\"size\": 15}}, \"yaxis\": {\"tickfont\": {\"size\": 14}, \"title\": {\"font\": {\"size\": 16}, \"text\": \"Counts\"}}},\n",
              "                        {\"responsive\": true}\n",
              "                    ).then(function(){\n",
              "                            \n",
              "var gd = document.getElementById('f9f9d457-3c04-40c0-abdb-63715db2c4d4');\n",
              "var x = new MutationObserver(function (mutations, observer) {{\n",
              "        var display = window.getComputedStyle(gd).display;\n",
              "        if (!display || display === 'none') {{\n",
              "            console.log([gd, 'removed!']);\n",
              "            Plotly.purge(gd);\n",
              "            observer.disconnect();\n",
              "        }}\n",
              "}});\n",
              "\n",
              "// Listen for the removal of the full notebook cells\n",
              "var notebookContainer = gd.closest('#notebook-container');\n",
              "if (notebookContainer) {{\n",
              "    x.observe(notebookContainer, {childList: true});\n",
              "}}\n",
              "\n",
              "// Listen for the clearing of the current output cell\n",
              "var outputEl = gd.closest('.output');\n",
              "if (outputEl) {{\n",
              "    x.observe(outputEl, {childList: true});\n",
              "}}\n",
              "\n",
              "                        })\n",
              "                };\n",
              "                \n",
              "            </script>\n",
              "        </div>\n",
              "</body>\n",
              "</html>"
            ]
          },
          "metadata": {
            "tags": []
          }
        }
      ]
    },
    {
      "cell_type": "code",
      "metadata": {
        "colab": {
          "base_uri": "https://localhost:8080/",
          "height": 542
        },
        "id": "bU6xCUndqYBh",
        "outputId": "57112cfe-c81b-4e1f-eebe-c70b53874e9b"
      },
      "source": [
        "allData_counts = []\n",
        "allData_labels = []\n",
        "for item in allData.Comment.value_counts().items():\n",
        "    if(item[0].find(\"Unidentified\")==-1):\n",
        "      allData_labels.append(item[0])\n",
        "      allData_counts.append(item[1])\n",
        "\n",
        "fig = go.Figure([go.Bar(x=allData_labels, y=allData_counts)])\n",
        "fig.update_layout(\n",
        "    title='Classification of Network Traffic of All Honeypot Websites',\n",
        "    xaxis_tickfont_size=15,\n",
        "    yaxis=dict(\n",
        "        title='Counts',\n",
        "        titlefont_size=16,\n",
        "        tickfont_size=14,\n",
        "    ),\n",
        "    legend=dict(\n",
        "        x=0,\n",
        "        y=1.0,\n",
        "        bgcolor='rgba(255, 255, 255, 0)',\n",
        "        bordercolor='rgba(255, 255, 255, 0)'\n",
        "    ),\n",
        "    width=1000,\n",
        "    barmode='group',\n",
        "    bargap=0.15, # gap between bars of adjacent location coordinates.\n",
        "    bargroupgap=0.5, # gap between bars of the same location coordinate.\n",
        ")\n",
        "fig.update_traces(texttemplate='%{y:.2s}', textposition='outside')\n",
        "fig.show()"
      ],
      "execution_count": null,
      "outputs": [
        {
          "output_type": "display_data",
          "data": {
            "text/html": [
              "<html>\n",
              "<head><meta charset=\"utf-8\" /></head>\n",
              "<body>\n",
              "    <div>\n",
              "            <script src=\"https://cdnjs.cloudflare.com/ajax/libs/mathjax/2.7.5/MathJax.js?config=TeX-AMS-MML_SVG\"></script><script type=\"text/javascript\">if (window.MathJax) {MathJax.Hub.Config({SVG: {font: \"STIX-Web\"}});}</script>\n",
              "                <script type=\"text/javascript\">window.PlotlyConfig = {MathJaxConfig: 'local'};</script>\n",
              "        <script src=\"https://cdn.plot.ly/plotly-latest.min.js\"></script>    \n",
              "            <div id=\"9073964e-9cd4-4cf3-a543-dea7d0202be8\" class=\"plotly-graph-div\" style=\"height:525px; width:1000px;\"></div>\n",
              "            <script type=\"text/javascript\">\n",
              "                \n",
              "                    window.PLOTLYENV=window.PLOTLYENV || {};\n",
              "                    \n",
              "                if (document.getElementById(\"9073964e-9cd4-4cf3-a543-dea7d0202be8\")) {\n",
              "                    Plotly.newPlot(\n",
              "                        '9073964e-9cd4-4cf3-a543-dea7d0202be8',\n",
              "                        [{\"textposition\": \"outside\", \"texttemplate\": \"%{y:.2s}\", \"type\": \"bar\", \"x\": [\"Nonmalicious\", \"Link Brute Force\", \"Command Injection\", \"SQL Injection\", \"Research\", \"Crawler\", \"XSS\"], \"y\": [196896, 40753, 7806, 3607, 847, 502, 2]}],\n",
              "                        {\"bargap\": 0.15, \"bargroupgap\": 0.5, \"barmode\": \"group\", \"legend\": {\"bgcolor\": \"rgba(255, 255, 255, 0)\", \"bordercolor\": \"rgba(255, 255, 255, 0)\", \"x\": 0, \"y\": 1.0}, \"template\": {\"data\": {\"bar\": [{\"error_x\": {\"color\": \"#2a3f5f\"}, \"error_y\": {\"color\": \"#2a3f5f\"}, \"marker\": {\"line\": {\"color\": \"#E5ECF6\", \"width\": 0.5}}, \"type\": \"bar\"}], \"barpolar\": [{\"marker\": {\"line\": {\"color\": \"#E5ECF6\", \"width\": 0.5}}, \"type\": \"barpolar\"}], \"carpet\": [{\"aaxis\": {\"endlinecolor\": \"#2a3f5f\", \"gridcolor\": \"white\", \"linecolor\": \"white\", \"minorgridcolor\": \"white\", \"startlinecolor\": \"#2a3f5f\"}, \"baxis\": {\"endlinecolor\": \"#2a3f5f\", \"gridcolor\": \"white\", \"linecolor\": \"white\", \"minorgridcolor\": \"white\", \"startlinecolor\": \"#2a3f5f\"}, \"type\": \"carpet\"}], \"choropleth\": [{\"colorbar\": {\"outlinewidth\": 0, \"ticks\": \"\"}, \"type\": \"choropleth\"}], \"contour\": [{\"colorbar\": {\"outlinewidth\": 0, \"ticks\": \"\"}, \"colorscale\": [[0.0, \"#0d0887\"], [0.1111111111111111, \"#46039f\"], [0.2222222222222222, \"#7201a8\"], [0.3333333333333333, \"#9c179e\"], [0.4444444444444444, \"#bd3786\"], [0.5555555555555556, \"#d8576b\"], [0.6666666666666666, \"#ed7953\"], [0.7777777777777778, \"#fb9f3a\"], [0.8888888888888888, \"#fdca26\"], [1.0, \"#f0f921\"]], \"type\": \"contour\"}], \"contourcarpet\": [{\"colorbar\": {\"outlinewidth\": 0, \"ticks\": \"\"}, \"type\": \"contourcarpet\"}], \"heatmap\": [{\"colorbar\": {\"outlinewidth\": 0, \"ticks\": \"\"}, \"colorscale\": [[0.0, \"#0d0887\"], [0.1111111111111111, \"#46039f\"], [0.2222222222222222, \"#7201a8\"], [0.3333333333333333, \"#9c179e\"], [0.4444444444444444, \"#bd3786\"], [0.5555555555555556, \"#d8576b\"], [0.6666666666666666, \"#ed7953\"], [0.7777777777777778, \"#fb9f3a\"], [0.8888888888888888, \"#fdca26\"], [1.0, \"#f0f921\"]], \"type\": \"heatmap\"}], \"heatmapgl\": [{\"colorbar\": {\"outlinewidth\": 0, \"ticks\": \"\"}, \"colorscale\": [[0.0, \"#0d0887\"], [0.1111111111111111, \"#46039f\"], [0.2222222222222222, \"#7201a8\"], [0.3333333333333333, \"#9c179e\"], [0.4444444444444444, \"#bd3786\"], [0.5555555555555556, \"#d8576b\"], [0.6666666666666666, \"#ed7953\"], [0.7777777777777778, \"#fb9f3a\"], [0.8888888888888888, \"#fdca26\"], [1.0, \"#f0f921\"]], \"type\": \"heatmapgl\"}], \"histogram\": [{\"marker\": {\"colorbar\": {\"outlinewidth\": 0, \"ticks\": \"\"}}, \"type\": \"histogram\"}], \"histogram2d\": [{\"colorbar\": {\"outlinewidth\": 0, \"ticks\": \"\"}, \"colorscale\": [[0.0, \"#0d0887\"], [0.1111111111111111, \"#46039f\"], [0.2222222222222222, \"#7201a8\"], [0.3333333333333333, \"#9c179e\"], [0.4444444444444444, \"#bd3786\"], [0.5555555555555556, \"#d8576b\"], [0.6666666666666666, \"#ed7953\"], [0.7777777777777778, \"#fb9f3a\"], [0.8888888888888888, \"#fdca26\"], [1.0, \"#f0f921\"]], \"type\": \"histogram2d\"}], \"histogram2dcontour\": [{\"colorbar\": {\"outlinewidth\": 0, \"ticks\": \"\"}, \"colorscale\": [[0.0, \"#0d0887\"], [0.1111111111111111, \"#46039f\"], [0.2222222222222222, \"#7201a8\"], [0.3333333333333333, \"#9c179e\"], [0.4444444444444444, \"#bd3786\"], [0.5555555555555556, \"#d8576b\"], [0.6666666666666666, \"#ed7953\"], [0.7777777777777778, \"#fb9f3a\"], [0.8888888888888888, \"#fdca26\"], [1.0, \"#f0f921\"]], \"type\": \"histogram2dcontour\"}], \"mesh3d\": [{\"colorbar\": {\"outlinewidth\": 0, \"ticks\": \"\"}, \"type\": \"mesh3d\"}], \"parcoords\": [{\"line\": {\"colorbar\": {\"outlinewidth\": 0, \"ticks\": \"\"}}, \"type\": \"parcoords\"}], \"pie\": [{\"automargin\": true, \"type\": \"pie\"}], \"scatter\": [{\"marker\": {\"colorbar\": {\"outlinewidth\": 0, \"ticks\": \"\"}}, \"type\": \"scatter\"}], \"scatter3d\": [{\"line\": {\"colorbar\": {\"outlinewidth\": 0, \"ticks\": \"\"}}, \"marker\": {\"colorbar\": {\"outlinewidth\": 0, \"ticks\": \"\"}}, \"type\": \"scatter3d\"}], \"scattercarpet\": [{\"marker\": {\"colorbar\": {\"outlinewidth\": 0, \"ticks\": \"\"}}, \"type\": \"scattercarpet\"}], \"scattergeo\": [{\"marker\": {\"colorbar\": {\"outlinewidth\": 0, \"ticks\": \"\"}}, \"type\": \"scattergeo\"}], \"scattergl\": [{\"marker\": {\"colorbar\": {\"outlinewidth\": 0, \"ticks\": \"\"}}, \"type\": \"scattergl\"}], \"scattermapbox\": [{\"marker\": {\"colorbar\": {\"outlinewidth\": 0, \"ticks\": \"\"}}, \"type\": \"scattermapbox\"}], \"scatterpolar\": [{\"marker\": {\"colorbar\": {\"outlinewidth\": 0, \"ticks\": \"\"}}, \"type\": \"scatterpolar\"}], \"scatterpolargl\": [{\"marker\": {\"colorbar\": {\"outlinewidth\": 0, \"ticks\": \"\"}}, \"type\": \"scatterpolargl\"}], \"scatterternary\": [{\"marker\": {\"colorbar\": {\"outlinewidth\": 0, \"ticks\": \"\"}}, \"type\": \"scatterternary\"}], \"surface\": [{\"colorbar\": {\"outlinewidth\": 0, \"ticks\": \"\"}, \"colorscale\": [[0.0, \"#0d0887\"], [0.1111111111111111, \"#46039f\"], [0.2222222222222222, \"#7201a8\"], [0.3333333333333333, \"#9c179e\"], [0.4444444444444444, \"#bd3786\"], [0.5555555555555556, \"#d8576b\"], [0.6666666666666666, \"#ed7953\"], [0.7777777777777778, \"#fb9f3a\"], [0.8888888888888888, \"#fdca26\"], [1.0, \"#f0f921\"]], \"type\": \"surface\"}], \"table\": [{\"cells\": {\"fill\": {\"color\": \"#EBF0F8\"}, \"line\": {\"color\": \"white\"}}, \"header\": {\"fill\": {\"color\": \"#C8D4E3\"}, \"line\": {\"color\": \"white\"}}, \"type\": \"table\"}]}, \"layout\": {\"annotationdefaults\": {\"arrowcolor\": \"#2a3f5f\", \"arrowhead\": 0, \"arrowwidth\": 1}, \"coloraxis\": {\"colorbar\": {\"outlinewidth\": 0, \"ticks\": \"\"}}, \"colorscale\": {\"diverging\": [[0, \"#8e0152\"], [0.1, \"#c51b7d\"], [0.2, \"#de77ae\"], [0.3, \"#f1b6da\"], [0.4, \"#fde0ef\"], [0.5, \"#f7f7f7\"], [0.6, \"#e6f5d0\"], [0.7, \"#b8e186\"], [0.8, \"#7fbc41\"], [0.9, \"#4d9221\"], [1, \"#276419\"]], \"sequential\": [[0.0, \"#0d0887\"], [0.1111111111111111, \"#46039f\"], [0.2222222222222222, \"#7201a8\"], [0.3333333333333333, \"#9c179e\"], [0.4444444444444444, \"#bd3786\"], [0.5555555555555556, \"#d8576b\"], [0.6666666666666666, \"#ed7953\"], [0.7777777777777778, \"#fb9f3a\"], [0.8888888888888888, \"#fdca26\"], [1.0, \"#f0f921\"]], \"sequentialminus\": [[0.0, \"#0d0887\"], [0.1111111111111111, \"#46039f\"], [0.2222222222222222, \"#7201a8\"], [0.3333333333333333, \"#9c179e\"], [0.4444444444444444, \"#bd3786\"], [0.5555555555555556, \"#d8576b\"], [0.6666666666666666, \"#ed7953\"], [0.7777777777777778, \"#fb9f3a\"], [0.8888888888888888, \"#fdca26\"], [1.0, \"#f0f921\"]]}, \"colorway\": [\"#636efa\", \"#EF553B\", \"#00cc96\", \"#ab63fa\", \"#FFA15A\", \"#19d3f3\", \"#FF6692\", \"#B6E880\", \"#FF97FF\", \"#FECB52\"], \"font\": {\"color\": \"#2a3f5f\"}, \"geo\": {\"bgcolor\": \"white\", \"lakecolor\": \"white\", \"landcolor\": \"#E5ECF6\", \"showlakes\": true, \"showland\": true, \"subunitcolor\": \"white\"}, \"hoverlabel\": {\"align\": \"left\"}, \"hovermode\": \"closest\", \"mapbox\": {\"style\": \"light\"}, \"paper_bgcolor\": \"white\", \"plot_bgcolor\": \"#E5ECF6\", \"polar\": {\"angularaxis\": {\"gridcolor\": \"white\", \"linecolor\": \"white\", \"ticks\": \"\"}, \"bgcolor\": \"#E5ECF6\", \"radialaxis\": {\"gridcolor\": \"white\", \"linecolor\": \"white\", \"ticks\": \"\"}}, \"scene\": {\"xaxis\": {\"backgroundcolor\": \"#E5ECF6\", \"gridcolor\": \"white\", \"gridwidth\": 2, \"linecolor\": \"white\", \"showbackground\": true, \"ticks\": \"\", \"zerolinecolor\": \"white\"}, \"yaxis\": {\"backgroundcolor\": \"#E5ECF6\", \"gridcolor\": \"white\", \"gridwidth\": 2, \"linecolor\": \"white\", \"showbackground\": true, \"ticks\": \"\", \"zerolinecolor\": \"white\"}, \"zaxis\": {\"backgroundcolor\": \"#E5ECF6\", \"gridcolor\": \"white\", \"gridwidth\": 2, \"linecolor\": \"white\", \"showbackground\": true, \"ticks\": \"\", \"zerolinecolor\": \"white\"}}, \"shapedefaults\": {\"line\": {\"color\": \"#2a3f5f\"}}, \"ternary\": {\"aaxis\": {\"gridcolor\": \"white\", \"linecolor\": \"white\", \"ticks\": \"\"}, \"baxis\": {\"gridcolor\": \"white\", \"linecolor\": \"white\", \"ticks\": \"\"}, \"bgcolor\": \"#E5ECF6\", \"caxis\": {\"gridcolor\": \"white\", \"linecolor\": \"white\", \"ticks\": \"\"}}, \"title\": {\"x\": 0.05}, \"xaxis\": {\"automargin\": true, \"gridcolor\": \"white\", \"linecolor\": \"white\", \"ticks\": \"\", \"title\": {\"standoff\": 15}, \"zerolinecolor\": \"white\", \"zerolinewidth\": 2}, \"yaxis\": {\"automargin\": true, \"gridcolor\": \"white\", \"linecolor\": \"white\", \"ticks\": \"\", \"title\": {\"standoff\": 15}, \"zerolinecolor\": \"white\", \"zerolinewidth\": 2}}}, \"title\": {\"text\": \"Classification of Network Traffic of All Honeypot Websites\"}, \"width\": 1000, \"xaxis\": {\"tickfont\": {\"size\": 15}}, \"yaxis\": {\"tickfont\": {\"size\": 14}, \"title\": {\"font\": {\"size\": 16}, \"text\": \"Counts\"}}},\n",
              "                        {\"responsive\": true}\n",
              "                    ).then(function(){\n",
              "                            \n",
              "var gd = document.getElementById('9073964e-9cd4-4cf3-a543-dea7d0202be8');\n",
              "var x = new MutationObserver(function (mutations, observer) {{\n",
              "        var display = window.getComputedStyle(gd).display;\n",
              "        if (!display || display === 'none') {{\n",
              "            console.log([gd, 'removed!']);\n",
              "            Plotly.purge(gd);\n",
              "            observer.disconnect();\n",
              "        }}\n",
              "}});\n",
              "\n",
              "// Listen for the removal of the full notebook cells\n",
              "var notebookContainer = gd.closest('#notebook-container');\n",
              "if (notebookContainer) {{\n",
              "    x.observe(notebookContainer, {childList: true});\n",
              "}}\n",
              "\n",
              "// Listen for the clearing of the current output cell\n",
              "var outputEl = gd.closest('.output');\n",
              "if (outputEl) {{\n",
              "    x.observe(outputEl, {childList: true});\n",
              "}}\n",
              "\n",
              "                        })\n",
              "                };\n",
              "                \n",
              "            </script>\n",
              "        </div>\n",
              "</body>\n",
              "</html>"
            ]
          },
          "metadata": {
            "tags": []
          }
        }
      ]
    },
    {
      "cell_type": "code",
      "metadata": {
        "colab": {
          "base_uri": "https://localhost:8080/",
          "height": 617
        },
        "id": "ekWMeOwcvcwk",
        "outputId": "0999fa4b-4326-4a6d-cb33-1130652c00e0"
      },
      "source": [
        "#TOOL: sqlInjection --> sqlmap \n",
        "researchData = allData.loc[allData['Comment'] == \"Research\"]\n",
        "researchData_counts = []\n",
        "researchData_labels = []\n",
        "for item in researchData.User_Agent.value_counts().items():\n",
        "  if(item[0].find(\"Mozilla\")==-1):\n",
        "    researchData_labels.append(item[0])\n",
        "    researchData_counts.append(item[1])\n",
        "\n",
        "fig = go.Figure([go.Bar(x=researchData_labels, y=researchData_counts)])\n",
        "fig.update_layout(\n",
        "    title='Classification of Research Institutes Traffic',\n",
        "    xaxis_tickfont_size=15,\n",
        "    yaxis=dict(\n",
        "        title='Counts',\n",
        "        titlefont_size=16,\n",
        "        tickfont_size=14,\n",
        "    ),\n",
        "    legend=dict(\n",
        "        x=0,\n",
        "        y=1.0,\n",
        "        bgcolor='rgba(255, 255, 255, 0)',\n",
        "        bordercolor='rgba(255, 255, 255, 0)'\n",
        "    ),\n",
        "    width=1000,\n",
        "    height=600,\n",
        "    barmode='group',\n",
        "    bargap=0.15, # gap between bars of adjacent location coordinates.\n",
        "    bargroupgap=0.5, # gap between bars of the same location coordinate.\n",
        ")\n",
        "fig.update_traces(texttemplate='%{y:.2s}', textposition='outside')\n",
        "fig.show()"
      ],
      "execution_count": null,
      "outputs": [
        {
          "output_type": "display_data",
          "data": {
            "text/html": [
              "<html>\n",
              "<head><meta charset=\"utf-8\" /></head>\n",
              "<body>\n",
              "    <div>\n",
              "            <script src=\"https://cdnjs.cloudflare.com/ajax/libs/mathjax/2.7.5/MathJax.js?config=TeX-AMS-MML_SVG\"></script><script type=\"text/javascript\">if (window.MathJax) {MathJax.Hub.Config({SVG: {font: \"STIX-Web\"}});}</script>\n",
              "                <script type=\"text/javascript\">window.PlotlyConfig = {MathJaxConfig: 'local'};</script>\n",
              "        <script src=\"https://cdn.plot.ly/plotly-latest.min.js\"></script>    \n",
              "            <div id=\"f82aeb5e-3b8c-4923-93b7-c751de8dc1c6\" class=\"plotly-graph-div\" style=\"height:600px; width:1000px;\"></div>\n",
              "            <script type=\"text/javascript\">\n",
              "                \n",
              "                    window.PLOTLYENV=window.PLOTLYENV || {};\n",
              "                    \n",
              "                if (document.getElementById(\"f82aeb5e-3b8c-4923-93b7-c751de8dc1c6\")) {\n",
              "                    Plotly.newPlot(\n",
              "                        'f82aeb5e-3b8c-4923-93b7-c751de8dc1c6',\n",
              "                        [{\"textposition\": \"outside\", \"texttemplate\": \"%{y:.2s}\", \"type\": \"bar\", \"x\": [\"Zgrab Webcrawl\", \"Censys Research\", \"Masscan Research\", \"NetSystems Research\", \"Palo Alto Research\", \"Project-Resonance Research\"], \"y\": [402, 312, 52, 46, 31, 4]}],\n",
              "                        {\"bargap\": 0.15, \"bargroupgap\": 0.5, \"barmode\": \"group\", \"height\": 600, \"legend\": {\"bgcolor\": \"rgba(255, 255, 255, 0)\", \"bordercolor\": \"rgba(255, 255, 255, 0)\", \"x\": 0, \"y\": 1.0}, \"template\": {\"data\": {\"bar\": [{\"error_x\": {\"color\": \"#2a3f5f\"}, \"error_y\": {\"color\": \"#2a3f5f\"}, \"marker\": {\"line\": {\"color\": \"#E5ECF6\", \"width\": 0.5}}, \"type\": \"bar\"}], \"barpolar\": [{\"marker\": {\"line\": {\"color\": \"#E5ECF6\", \"width\": 0.5}}, \"type\": \"barpolar\"}], \"carpet\": [{\"aaxis\": {\"endlinecolor\": \"#2a3f5f\", \"gridcolor\": \"white\", \"linecolor\": \"white\", \"minorgridcolor\": \"white\", \"startlinecolor\": \"#2a3f5f\"}, \"baxis\": {\"endlinecolor\": \"#2a3f5f\", \"gridcolor\": \"white\", \"linecolor\": \"white\", \"minorgridcolor\": \"white\", \"startlinecolor\": \"#2a3f5f\"}, \"type\": \"carpet\"}], \"choropleth\": [{\"colorbar\": {\"outlinewidth\": 0, \"ticks\": \"\"}, \"type\": \"choropleth\"}], \"contour\": [{\"colorbar\": {\"outlinewidth\": 0, \"ticks\": \"\"}, \"colorscale\": [[0.0, \"#0d0887\"], [0.1111111111111111, \"#46039f\"], [0.2222222222222222, \"#7201a8\"], [0.3333333333333333, \"#9c179e\"], [0.4444444444444444, \"#bd3786\"], [0.5555555555555556, \"#d8576b\"], [0.6666666666666666, \"#ed7953\"], [0.7777777777777778, \"#fb9f3a\"], [0.8888888888888888, \"#fdca26\"], [1.0, \"#f0f921\"]], \"type\": \"contour\"}], \"contourcarpet\": [{\"colorbar\": {\"outlinewidth\": 0, \"ticks\": \"\"}, \"type\": \"contourcarpet\"}], \"heatmap\": [{\"colorbar\": {\"outlinewidth\": 0, \"ticks\": \"\"}, \"colorscale\": [[0.0, \"#0d0887\"], [0.1111111111111111, \"#46039f\"], [0.2222222222222222, \"#7201a8\"], [0.3333333333333333, \"#9c179e\"], [0.4444444444444444, \"#bd3786\"], [0.5555555555555556, \"#d8576b\"], [0.6666666666666666, \"#ed7953\"], [0.7777777777777778, \"#fb9f3a\"], [0.8888888888888888, \"#fdca26\"], [1.0, \"#f0f921\"]], \"type\": \"heatmap\"}], \"heatmapgl\": [{\"colorbar\": {\"outlinewidth\": 0, \"ticks\": \"\"}, \"colorscale\": [[0.0, \"#0d0887\"], [0.1111111111111111, \"#46039f\"], [0.2222222222222222, \"#7201a8\"], [0.3333333333333333, \"#9c179e\"], [0.4444444444444444, \"#bd3786\"], [0.5555555555555556, \"#d8576b\"], [0.6666666666666666, \"#ed7953\"], [0.7777777777777778, \"#fb9f3a\"], [0.8888888888888888, \"#fdca26\"], [1.0, \"#f0f921\"]], \"type\": \"heatmapgl\"}], \"histogram\": [{\"marker\": {\"colorbar\": {\"outlinewidth\": 0, \"ticks\": \"\"}}, \"type\": \"histogram\"}], \"histogram2d\": [{\"colorbar\": {\"outlinewidth\": 0, \"ticks\": \"\"}, \"colorscale\": [[0.0, \"#0d0887\"], [0.1111111111111111, \"#46039f\"], [0.2222222222222222, \"#7201a8\"], [0.3333333333333333, \"#9c179e\"], [0.4444444444444444, \"#bd3786\"], [0.5555555555555556, \"#d8576b\"], [0.6666666666666666, \"#ed7953\"], [0.7777777777777778, \"#fb9f3a\"], [0.8888888888888888, \"#fdca26\"], [1.0, \"#f0f921\"]], \"type\": \"histogram2d\"}], \"histogram2dcontour\": [{\"colorbar\": {\"outlinewidth\": 0, \"ticks\": \"\"}, \"colorscale\": [[0.0, \"#0d0887\"], [0.1111111111111111, \"#46039f\"], [0.2222222222222222, \"#7201a8\"], [0.3333333333333333, \"#9c179e\"], [0.4444444444444444, \"#bd3786\"], [0.5555555555555556, \"#d8576b\"], [0.6666666666666666, \"#ed7953\"], [0.7777777777777778, \"#fb9f3a\"], [0.8888888888888888, \"#fdca26\"], [1.0, \"#f0f921\"]], \"type\": \"histogram2dcontour\"}], \"mesh3d\": [{\"colorbar\": {\"outlinewidth\": 0, \"ticks\": \"\"}, \"type\": \"mesh3d\"}], \"parcoords\": [{\"line\": {\"colorbar\": {\"outlinewidth\": 0, \"ticks\": \"\"}}, \"type\": \"parcoords\"}], \"pie\": [{\"automargin\": true, \"type\": \"pie\"}], \"scatter\": [{\"marker\": {\"colorbar\": {\"outlinewidth\": 0, \"ticks\": \"\"}}, \"type\": \"scatter\"}], \"scatter3d\": [{\"line\": {\"colorbar\": {\"outlinewidth\": 0, \"ticks\": \"\"}}, \"marker\": {\"colorbar\": {\"outlinewidth\": 0, \"ticks\": \"\"}}, \"type\": \"scatter3d\"}], \"scattercarpet\": [{\"marker\": {\"colorbar\": {\"outlinewidth\": 0, \"ticks\": \"\"}}, \"type\": \"scattercarpet\"}], \"scattergeo\": [{\"marker\": {\"colorbar\": {\"outlinewidth\": 0, \"ticks\": \"\"}}, \"type\": \"scattergeo\"}], \"scattergl\": [{\"marker\": {\"colorbar\": {\"outlinewidth\": 0, \"ticks\": \"\"}}, \"type\": \"scattergl\"}], \"scattermapbox\": [{\"marker\": {\"colorbar\": {\"outlinewidth\": 0, \"ticks\": \"\"}}, \"type\": \"scattermapbox\"}], \"scatterpolar\": [{\"marker\": {\"colorbar\": {\"outlinewidth\": 0, \"ticks\": \"\"}}, \"type\": \"scatterpolar\"}], \"scatterpolargl\": [{\"marker\": {\"colorbar\": {\"outlinewidth\": 0, \"ticks\": \"\"}}, \"type\": \"scatterpolargl\"}], \"scatterternary\": [{\"marker\": {\"colorbar\": {\"outlinewidth\": 0, \"ticks\": \"\"}}, \"type\": \"scatterternary\"}], \"surface\": [{\"colorbar\": {\"outlinewidth\": 0, \"ticks\": \"\"}, \"colorscale\": [[0.0, \"#0d0887\"], [0.1111111111111111, \"#46039f\"], [0.2222222222222222, \"#7201a8\"], [0.3333333333333333, \"#9c179e\"], [0.4444444444444444, \"#bd3786\"], [0.5555555555555556, \"#d8576b\"], [0.6666666666666666, \"#ed7953\"], [0.7777777777777778, \"#fb9f3a\"], [0.8888888888888888, \"#fdca26\"], [1.0, \"#f0f921\"]], \"type\": \"surface\"}], \"table\": [{\"cells\": {\"fill\": {\"color\": \"#EBF0F8\"}, \"line\": {\"color\": \"white\"}}, \"header\": {\"fill\": {\"color\": \"#C8D4E3\"}, \"line\": {\"color\": \"white\"}}, \"type\": \"table\"}]}, \"layout\": {\"annotationdefaults\": {\"arrowcolor\": \"#2a3f5f\", \"arrowhead\": 0, \"arrowwidth\": 1}, \"coloraxis\": {\"colorbar\": {\"outlinewidth\": 0, \"ticks\": \"\"}}, \"colorscale\": {\"diverging\": [[0, \"#8e0152\"], [0.1, \"#c51b7d\"], [0.2, \"#de77ae\"], [0.3, \"#f1b6da\"], [0.4, \"#fde0ef\"], [0.5, \"#f7f7f7\"], [0.6, \"#e6f5d0\"], [0.7, \"#b8e186\"], [0.8, \"#7fbc41\"], [0.9, \"#4d9221\"], [1, \"#276419\"]], \"sequential\": [[0.0, \"#0d0887\"], [0.1111111111111111, \"#46039f\"], [0.2222222222222222, \"#7201a8\"], [0.3333333333333333, \"#9c179e\"], [0.4444444444444444, \"#bd3786\"], [0.5555555555555556, \"#d8576b\"], [0.6666666666666666, \"#ed7953\"], [0.7777777777777778, \"#fb9f3a\"], [0.8888888888888888, \"#fdca26\"], [1.0, \"#f0f921\"]], \"sequentialminus\": [[0.0, \"#0d0887\"], [0.1111111111111111, \"#46039f\"], [0.2222222222222222, \"#7201a8\"], [0.3333333333333333, \"#9c179e\"], [0.4444444444444444, \"#bd3786\"], [0.5555555555555556, \"#d8576b\"], [0.6666666666666666, \"#ed7953\"], [0.7777777777777778, \"#fb9f3a\"], [0.8888888888888888, \"#fdca26\"], [1.0, \"#f0f921\"]]}, \"colorway\": [\"#636efa\", \"#EF553B\", \"#00cc96\", \"#ab63fa\", \"#FFA15A\", \"#19d3f3\", \"#FF6692\", \"#B6E880\", \"#FF97FF\", \"#FECB52\"], \"font\": {\"color\": \"#2a3f5f\"}, \"geo\": {\"bgcolor\": \"white\", \"lakecolor\": \"white\", \"landcolor\": \"#E5ECF6\", \"showlakes\": true, \"showland\": true, \"subunitcolor\": \"white\"}, \"hoverlabel\": {\"align\": \"left\"}, \"hovermode\": \"closest\", \"mapbox\": {\"style\": \"light\"}, \"paper_bgcolor\": \"white\", \"plot_bgcolor\": \"#E5ECF6\", \"polar\": {\"angularaxis\": {\"gridcolor\": \"white\", \"linecolor\": \"white\", \"ticks\": \"\"}, \"bgcolor\": \"#E5ECF6\", \"radialaxis\": {\"gridcolor\": \"white\", \"linecolor\": \"white\", \"ticks\": \"\"}}, \"scene\": {\"xaxis\": {\"backgroundcolor\": \"#E5ECF6\", \"gridcolor\": \"white\", \"gridwidth\": 2, \"linecolor\": \"white\", \"showbackground\": true, \"ticks\": \"\", \"zerolinecolor\": \"white\"}, \"yaxis\": {\"backgroundcolor\": \"#E5ECF6\", \"gridcolor\": \"white\", \"gridwidth\": 2, \"linecolor\": \"white\", \"showbackground\": true, \"ticks\": \"\", \"zerolinecolor\": \"white\"}, \"zaxis\": {\"backgroundcolor\": \"#E5ECF6\", \"gridcolor\": \"white\", \"gridwidth\": 2, \"linecolor\": \"white\", \"showbackground\": true, \"ticks\": \"\", \"zerolinecolor\": \"white\"}}, \"shapedefaults\": {\"line\": {\"color\": \"#2a3f5f\"}}, \"ternary\": {\"aaxis\": {\"gridcolor\": \"white\", \"linecolor\": \"white\", \"ticks\": \"\"}, \"baxis\": {\"gridcolor\": \"white\", \"linecolor\": \"white\", \"ticks\": \"\"}, \"bgcolor\": \"#E5ECF6\", \"caxis\": {\"gridcolor\": \"white\", \"linecolor\": \"white\", \"ticks\": \"\"}}, \"title\": {\"x\": 0.05}, \"xaxis\": {\"automargin\": true, \"gridcolor\": \"white\", \"linecolor\": \"white\", \"ticks\": \"\", \"title\": {\"standoff\": 15}, \"zerolinecolor\": \"white\", \"zerolinewidth\": 2}, \"yaxis\": {\"automargin\": true, \"gridcolor\": \"white\", \"linecolor\": \"white\", \"ticks\": \"\", \"title\": {\"standoff\": 15}, \"zerolinecolor\": \"white\", \"zerolinewidth\": 2}}}, \"title\": {\"text\": \"Classification of Research Institutes Traffic\"}, \"width\": 1000, \"xaxis\": {\"tickfont\": {\"size\": 15}}, \"yaxis\": {\"tickfont\": {\"size\": 14}, \"title\": {\"font\": {\"size\": 16}, \"text\": \"Counts\"}}},\n",
              "                        {\"responsive\": true}\n",
              "                    ).then(function(){\n",
              "                            \n",
              "var gd = document.getElementById('f82aeb5e-3b8c-4923-93b7-c751de8dc1c6');\n",
              "var x = new MutationObserver(function (mutations, observer) {{\n",
              "        var display = window.getComputedStyle(gd).display;\n",
              "        if (!display || display === 'none') {{\n",
              "            console.log([gd, 'removed!']);\n",
              "            Plotly.purge(gd);\n",
              "            observer.disconnect();\n",
              "        }}\n",
              "}});\n",
              "\n",
              "// Listen for the removal of the full notebook cells\n",
              "var notebookContainer = gd.closest('#notebook-container');\n",
              "if (notebookContainer) {{\n",
              "    x.observe(notebookContainer, {childList: true});\n",
              "}}\n",
              "\n",
              "// Listen for the clearing of the current output cell\n",
              "var outputEl = gd.closest('.output');\n",
              "if (outputEl) {{\n",
              "    x.observe(outputEl, {childList: true});\n",
              "}}\n",
              "\n",
              "                        })\n",
              "                };\n",
              "                \n",
              "            </script>\n",
              "        </div>\n",
              "</body>\n",
              "</html>"
            ]
          },
          "metadata": {
            "tags": []
          }
        }
      ]
    },
    {
      "cell_type": "markdown",
      "metadata": {
        "id": "enJk6-l2tTZS"
      },
      "source": [
        "### Classification of Network Traffic of All Honeypot Websites Excluding SEC509 Attack"
      ]
    },
    {
      "cell_type": "code",
      "metadata": {
        "id": "5rC9h7vjwDax"
      },
      "source": [
        "allData['time'] = pd.to_datetime(allData['time'])"
      ],
      "execution_count": null,
      "outputs": []
    },
    {
      "cell_type": "code",
      "metadata": {
        "colab": {
          "base_uri": "https://localhost:8080/",
          "height": 419
        },
        "id": "EprVj9eCgitW",
        "outputId": "1fb5eec7-4b96-4d80-e0a8-e35a36c64121"
      },
      "source": [
        "start_date = '04-12-2021'\n",
        "end_date = '04-27-2021'\n",
        "mask = (allData['time'] < start_date) | (allData['time'] > end_date)\n",
        "df = allData.loc[mask]\n",
        "df"
      ],
      "execution_count": null,
      "outputs": [
        {
          "output_type": "execute_result",
          "data": {
            "text/html": [
              "<div>\n",
              "<style scoped>\n",
              "    .dataframe tbody tr th:only-of-type {\n",
              "        vertical-align: middle;\n",
              "    }\n",
              "\n",
              "    .dataframe tbody tr th {\n",
              "        vertical-align: top;\n",
              "    }\n",
              "\n",
              "    .dataframe thead th {\n",
              "        text-align: right;\n",
              "    }\n",
              "</style>\n",
              "<table border=\"1\" class=\"dataframe\">\n",
              "  <thead>\n",
              "    <tr style=\"text-align: right;\">\n",
              "      <th></th>\n",
              "      <th>time</th>\n",
              "      <th>ip.src</th>\n",
              "      <th>tcp.srcport</th>\n",
              "      <th>ip.dst</th>\n",
              "      <th>tcp.dstport</th>\n",
              "      <th>raw.load</th>\n",
              "      <th>Malicious</th>\n",
              "      <th>Comment</th>\n",
              "      <th>User_Agent</th>\n",
              "    </tr>\n",
              "  </thead>\n",
              "  <tbody>\n",
              "    <tr>\n",
              "      <th>2</th>\n",
              "      <td>2021-05-04 23:09:36</td>\n",
              "      <td>45.148.10.45</td>\n",
              "      <td>56336</td>\n",
              "      <td>172.18.0.3</td>\n",
              "      <td>80</td>\n",
              "      <td>b'POST /goform/SystemCommand HTTP/1.1\\r\\nHost:...</td>\n",
              "      <td>Yes</td>\n",
              "      <td>Link Brute Force</td>\n",
              "      <td>Mozilla/4.0</td>\n",
              "    </tr>\n",
              "    <tr>\n",
              "      <th>3</th>\n",
              "      <td>2021-05-04 23:10:07</td>\n",
              "      <td>61.219.11.153</td>\n",
              "      <td>65262</td>\n",
              "      <td>172.18.0.3</td>\n",
              "      <td>80</td>\n",
              "      <td>b'GET / HTTP/1.1\\r\\n\\r\\n'</td>\n",
              "      <td>No</td>\n",
              "      <td>Nonmalicious</td>\n",
              "      <td>-</td>\n",
              "    </tr>\n",
              "    <tr>\n",
              "      <th>8</th>\n",
              "      <td>2021-06-04 08:41:30</td>\n",
              "      <td>121.5.103.58</td>\n",
              "      <td>35444</td>\n",
              "      <td>172.18.0.3</td>\n",
              "      <td>80</td>\n",
              "      <td>b'GET /huoshan.php HTTP/1.1\\r\\nHost: 34.68.176...</td>\n",
              "      <td>Yes</td>\n",
              "      <td>Link Brute Force</td>\n",
              "      <td>Mozilla/5.0 (Linux; Android 10; LIO-AN00 Build...</td>\n",
              "    </tr>\n",
              "    <tr>\n",
              "      <th>9</th>\n",
              "      <td>2021-06-04 08:48:00</td>\n",
              "      <td>103.113.107.90</td>\n",
              "      <td>45808</td>\n",
              "      <td>172.18.0.3</td>\n",
              "      <td>80</td>\n",
              "      <td>b'GET / HTTP/1.1\\r\\nHost: 34.68.176.158:80\\r\\n...</td>\n",
              "      <td>No</td>\n",
              "      <td>Nonmalicious</td>\n",
              "      <td>Mozilla/5.0 (Macintosh; Intel Mac OS X 10_11_6...</td>\n",
              "    </tr>\n",
              "    <tr>\n",
              "      <th>10</th>\n",
              "      <td>2021-06-04 08:48:02</td>\n",
              "      <td>172.18.0.3</td>\n",
              "      <td>38924</td>\n",
              "      <td>65.8.48.211</td>\n",
              "      <td>80</td>\n",
              "      <td>b'GET /wp/2020/03/AP_20027607175456-1000x667.j...</td>\n",
              "      <td>Yes</td>\n",
              "      <td>Link Brute Force</td>\n",
              "      <td>-</td>\n",
              "    </tr>\n",
              "    <tr>\n",
              "      <th>...</th>\n",
              "      <td>...</td>\n",
              "      <td>...</td>\n",
              "      <td>...</td>\n",
              "      <td>...</td>\n",
              "      <td>...</td>\n",
              "      <td>...</td>\n",
              "      <td>...</td>\n",
              "      <td>...</td>\n",
              "      <td>...</td>\n",
              "    </tr>\n",
              "    <tr>\n",
              "      <th>268172</th>\n",
              "      <td>2021-10-05 19:16:14</td>\n",
              "      <td>35.191.10.72</td>\n",
              "      <td>43886</td>\n",
              "      <td>172.20.0.3</td>\n",
              "      <td>80</td>\n",
              "      <td>b'GET / HTTP/1.1\\r\\nHost: 10.128.0.2\\r\\nUser-A...</td>\n",
              "      <td>No</td>\n",
              "      <td>Nonmalicious</td>\n",
              "      <td>GoogleHC/1.0</td>\n",
              "    </tr>\n",
              "    <tr>\n",
              "      <th>268173</th>\n",
              "      <td>2021-10-05 19:16:15</td>\n",
              "      <td>35.191.2.88</td>\n",
              "      <td>45806</td>\n",
              "      <td>172.20.0.3</td>\n",
              "      <td>80</td>\n",
              "      <td>b'GET / HTTP/1.1\\r\\nHost: 10.128.0.2\\r\\nUser-A...</td>\n",
              "      <td>No</td>\n",
              "      <td>Nonmalicious</td>\n",
              "      <td>GoogleHC/1.0</td>\n",
              "    </tr>\n",
              "    <tr>\n",
              "      <th>268174</th>\n",
              "      <td>2021-10-05 19:16:44</td>\n",
              "      <td>35.191.2.94</td>\n",
              "      <td>36674</td>\n",
              "      <td>172.20.0.3</td>\n",
              "      <td>80</td>\n",
              "      <td>b'GET / HTTP/1.1\\r\\nHost: 10.128.0.2\\r\\nUser-A...</td>\n",
              "      <td>No</td>\n",
              "      <td>Nonmalicious</td>\n",
              "      <td>GoogleHC/1.0</td>\n",
              "    </tr>\n",
              "    <tr>\n",
              "      <th>268175</th>\n",
              "      <td>2021-10-05 19:16:44</td>\n",
              "      <td>35.191.10.72</td>\n",
              "      <td>43888</td>\n",
              "      <td>172.20.0.3</td>\n",
              "      <td>80</td>\n",
              "      <td>b'GET / HTTP/1.1\\r\\nHost: 10.128.0.2\\r\\nUser-A...</td>\n",
              "      <td>No</td>\n",
              "      <td>Nonmalicious</td>\n",
              "      <td>GoogleHC/1.0</td>\n",
              "    </tr>\n",
              "    <tr>\n",
              "      <th>268176</th>\n",
              "      <td>2021-10-05 19:16:45</td>\n",
              "      <td>35.191.2.88</td>\n",
              "      <td>32768</td>\n",
              "      <td>172.20.0.3</td>\n",
              "      <td>80</td>\n",
              "      <td>b'GET / HTTP/1.1\\r\\nHost: 10.128.0.2\\r\\nUser-A...</td>\n",
              "      <td>No</td>\n",
              "      <td>Nonmalicious</td>\n",
              "      <td>GoogleHC/1.0</td>\n",
              "    </tr>\n",
              "  </tbody>\n",
              "</table>\n",
              "<p>134645 rows × 9 columns</p>\n",
              "</div>"
            ],
            "text/plain": [
              "                      time  ...                                         User_Agent\n",
              "2      2021-05-04 23:09:36  ...                                        Mozilla/4.0\n",
              "3      2021-05-04 23:10:07  ...                                                  -\n",
              "8      2021-06-04 08:41:30  ...  Mozilla/5.0 (Linux; Android 10; LIO-AN00 Build...\n",
              "9      2021-06-04 08:48:00  ...  Mozilla/5.0 (Macintosh; Intel Mac OS X 10_11_6...\n",
              "10     2021-06-04 08:48:02  ...                                                  -\n",
              "...                    ...  ...                                                ...\n",
              "268172 2021-10-05 19:16:14  ...                                       GoogleHC/1.0\n",
              "268173 2021-10-05 19:16:15  ...                                       GoogleHC/1.0\n",
              "268174 2021-10-05 19:16:44  ...                                       GoogleHC/1.0\n",
              "268175 2021-10-05 19:16:44  ...                                       GoogleHC/1.0\n",
              "268176 2021-10-05 19:16:45  ...                                       GoogleHC/1.0\n",
              "\n",
              "[134645 rows x 9 columns]"
            ]
          },
          "metadata": {
            "tags": []
          },
          "execution_count": 36
        }
      ]
    },
    {
      "cell_type": "code",
      "metadata": {
        "colab": {
          "base_uri": "https://localhost:8080/",
          "height": 542
        },
        "id": "W0-c7T2rh2RT",
        "outputId": "591eaff0-69e4-4fbf-ba06-91e9429ff530"
      },
      "source": [
        "df_counts = []\n",
        "df_labels = []\n",
        "for item in df.Comment.value_counts().items():\n",
        "    if(item[0].find(\"Unidentified\")==-1):\n",
        "      df_labels.append(item[0])\n",
        "      df_counts.append(item[1])\n",
        "\n",
        "fig = go.Figure([go.Bar(x=df_labels, y=df_counts)])\n",
        "fig.update_layout(\n",
        "    title='Classification of Network Traffic of All Honeypot Websites Excluding SEC509 Attacks',\n",
        "    xaxis_tickfont_size=15,\n",
        "    yaxis=dict(\n",
        "        title='Counts',\n",
        "        titlefont_size=16,\n",
        "        tickfont_size=14,\n",
        "    ),\n",
        "    legend=dict(\n",
        "        x=0,\n",
        "        y=1.0,\n",
        "        bgcolor='rgba(255, 255, 255, 0)',\n",
        "        bordercolor='rgba(255, 255, 255, 0)'\n",
        "    ),\n",
        "    width=1000,\n",
        "    barmode='group',\n",
        "    bargap=0.15, # gap between bars of adjacent location coordinates.\n",
        "    bargroupgap=0.5, # gap between bars of the same location coordinate.\n",
        ")\n",
        "fig.update_traces(texttemplate='%{y:.2s}', textposition='outside')\n",
        "fig.show()"
      ],
      "execution_count": null,
      "outputs": [
        {
          "output_type": "display_data",
          "data": {
            "text/html": [
              "<html>\n",
              "<head><meta charset=\"utf-8\" /></head>\n",
              "<body>\n",
              "    <div>\n",
              "            <script src=\"https://cdnjs.cloudflare.com/ajax/libs/mathjax/2.7.5/MathJax.js?config=TeX-AMS-MML_SVG\"></script><script type=\"text/javascript\">if (window.MathJax) {MathJax.Hub.Config({SVG: {font: \"STIX-Web\"}});}</script>\n",
              "                <script type=\"text/javascript\">window.PlotlyConfig = {MathJaxConfig: 'local'};</script>\n",
              "        <script src=\"https://cdn.plot.ly/plotly-latest.min.js\"></script>    \n",
              "            <div id=\"e740de0a-5bc2-4dab-bdc3-18560f69dd59\" class=\"plotly-graph-div\" style=\"height:525px; width:1000px;\"></div>\n",
              "            <script type=\"text/javascript\">\n",
              "                \n",
              "                    window.PLOTLYENV=window.PLOTLYENV || {};\n",
              "                    \n",
              "                if (document.getElementById(\"e740de0a-5bc2-4dab-bdc3-18560f69dd59\")) {\n",
              "                    Plotly.newPlot(\n",
              "                        'e740de0a-5bc2-4dab-bdc3-18560f69dd59',\n",
              "                        [{\"textposition\": \"outside\", \"texttemplate\": \"%{y:.2s}\", \"type\": \"bar\", \"x\": [\"Nonmalicious\", \"Link Brute Force\", \"Command Injection\", \"SQL Injection\", \"Research\", \"Crawler\"], \"y\": [113605, 11035, 5108, 1008, 520, 324]}],\n",
              "                        {\"bargap\": 0.15, \"bargroupgap\": 0.5, \"barmode\": \"group\", \"legend\": {\"bgcolor\": \"rgba(255, 255, 255, 0)\", \"bordercolor\": \"rgba(255, 255, 255, 0)\", \"x\": 0, \"y\": 1.0}, \"template\": {\"data\": {\"bar\": [{\"error_x\": {\"color\": \"#2a3f5f\"}, \"error_y\": {\"color\": \"#2a3f5f\"}, \"marker\": {\"line\": {\"color\": \"#E5ECF6\", \"width\": 0.5}}, \"type\": \"bar\"}], \"barpolar\": [{\"marker\": {\"line\": {\"color\": \"#E5ECF6\", \"width\": 0.5}}, \"type\": \"barpolar\"}], \"carpet\": [{\"aaxis\": {\"endlinecolor\": \"#2a3f5f\", \"gridcolor\": \"white\", \"linecolor\": \"white\", \"minorgridcolor\": \"white\", \"startlinecolor\": \"#2a3f5f\"}, \"baxis\": {\"endlinecolor\": \"#2a3f5f\", \"gridcolor\": \"white\", \"linecolor\": \"white\", \"minorgridcolor\": \"white\", \"startlinecolor\": \"#2a3f5f\"}, \"type\": \"carpet\"}], \"choropleth\": [{\"colorbar\": {\"outlinewidth\": 0, \"ticks\": \"\"}, \"type\": \"choropleth\"}], \"contour\": [{\"colorbar\": {\"outlinewidth\": 0, \"ticks\": \"\"}, \"colorscale\": [[0.0, \"#0d0887\"], [0.1111111111111111, \"#46039f\"], [0.2222222222222222, \"#7201a8\"], [0.3333333333333333, \"#9c179e\"], [0.4444444444444444, \"#bd3786\"], [0.5555555555555556, \"#d8576b\"], [0.6666666666666666, \"#ed7953\"], [0.7777777777777778, \"#fb9f3a\"], [0.8888888888888888, \"#fdca26\"], [1.0, \"#f0f921\"]], \"type\": \"contour\"}], \"contourcarpet\": [{\"colorbar\": {\"outlinewidth\": 0, \"ticks\": \"\"}, \"type\": \"contourcarpet\"}], \"heatmap\": [{\"colorbar\": {\"outlinewidth\": 0, \"ticks\": \"\"}, \"colorscale\": [[0.0, \"#0d0887\"], [0.1111111111111111, \"#46039f\"], [0.2222222222222222, \"#7201a8\"], [0.3333333333333333, \"#9c179e\"], [0.4444444444444444, \"#bd3786\"], [0.5555555555555556, \"#d8576b\"], [0.6666666666666666, \"#ed7953\"], [0.7777777777777778, \"#fb9f3a\"], [0.8888888888888888, \"#fdca26\"], [1.0, \"#f0f921\"]], \"type\": \"heatmap\"}], \"heatmapgl\": [{\"colorbar\": {\"outlinewidth\": 0, \"ticks\": \"\"}, \"colorscale\": [[0.0, \"#0d0887\"], [0.1111111111111111, \"#46039f\"], [0.2222222222222222, \"#7201a8\"], [0.3333333333333333, \"#9c179e\"], [0.4444444444444444, \"#bd3786\"], [0.5555555555555556, \"#d8576b\"], [0.6666666666666666, \"#ed7953\"], [0.7777777777777778, \"#fb9f3a\"], [0.8888888888888888, \"#fdca26\"], [1.0, \"#f0f921\"]], \"type\": \"heatmapgl\"}], \"histogram\": [{\"marker\": {\"colorbar\": {\"outlinewidth\": 0, \"ticks\": \"\"}}, \"type\": \"histogram\"}], \"histogram2d\": [{\"colorbar\": {\"outlinewidth\": 0, \"ticks\": \"\"}, \"colorscale\": [[0.0, \"#0d0887\"], [0.1111111111111111, \"#46039f\"], [0.2222222222222222, \"#7201a8\"], [0.3333333333333333, \"#9c179e\"], [0.4444444444444444, \"#bd3786\"], [0.5555555555555556, \"#d8576b\"], [0.6666666666666666, \"#ed7953\"], [0.7777777777777778, \"#fb9f3a\"], [0.8888888888888888, \"#fdca26\"], [1.0, \"#f0f921\"]], \"type\": \"histogram2d\"}], \"histogram2dcontour\": [{\"colorbar\": {\"outlinewidth\": 0, \"ticks\": \"\"}, \"colorscale\": [[0.0, \"#0d0887\"], [0.1111111111111111, \"#46039f\"], [0.2222222222222222, \"#7201a8\"], [0.3333333333333333, \"#9c179e\"], [0.4444444444444444, \"#bd3786\"], [0.5555555555555556, \"#d8576b\"], [0.6666666666666666, \"#ed7953\"], [0.7777777777777778, \"#fb9f3a\"], [0.8888888888888888, \"#fdca26\"], [1.0, \"#f0f921\"]], \"type\": \"histogram2dcontour\"}], \"mesh3d\": [{\"colorbar\": {\"outlinewidth\": 0, \"ticks\": \"\"}, \"type\": \"mesh3d\"}], \"parcoords\": [{\"line\": {\"colorbar\": {\"outlinewidth\": 0, \"ticks\": \"\"}}, \"type\": \"parcoords\"}], \"pie\": [{\"automargin\": true, \"type\": \"pie\"}], \"scatter\": [{\"marker\": {\"colorbar\": {\"outlinewidth\": 0, \"ticks\": \"\"}}, \"type\": \"scatter\"}], \"scatter3d\": [{\"line\": {\"colorbar\": {\"outlinewidth\": 0, \"ticks\": \"\"}}, \"marker\": {\"colorbar\": {\"outlinewidth\": 0, \"ticks\": \"\"}}, \"type\": \"scatter3d\"}], \"scattercarpet\": [{\"marker\": {\"colorbar\": {\"outlinewidth\": 0, \"ticks\": \"\"}}, \"type\": \"scattercarpet\"}], \"scattergeo\": [{\"marker\": {\"colorbar\": {\"outlinewidth\": 0, \"ticks\": \"\"}}, \"type\": \"scattergeo\"}], \"scattergl\": [{\"marker\": {\"colorbar\": {\"outlinewidth\": 0, \"ticks\": \"\"}}, \"type\": \"scattergl\"}], \"scattermapbox\": [{\"marker\": {\"colorbar\": {\"outlinewidth\": 0, \"ticks\": \"\"}}, \"type\": \"scattermapbox\"}], \"scatterpolar\": [{\"marker\": {\"colorbar\": {\"outlinewidth\": 0, \"ticks\": \"\"}}, \"type\": \"scatterpolar\"}], \"scatterpolargl\": [{\"marker\": {\"colorbar\": {\"outlinewidth\": 0, \"ticks\": \"\"}}, \"type\": \"scatterpolargl\"}], \"scatterternary\": [{\"marker\": {\"colorbar\": {\"outlinewidth\": 0, \"ticks\": \"\"}}, \"type\": \"scatterternary\"}], \"surface\": [{\"colorbar\": {\"outlinewidth\": 0, \"ticks\": \"\"}, \"colorscale\": [[0.0, \"#0d0887\"], [0.1111111111111111, \"#46039f\"], [0.2222222222222222, \"#7201a8\"], [0.3333333333333333, \"#9c179e\"], [0.4444444444444444, \"#bd3786\"], [0.5555555555555556, \"#d8576b\"], [0.6666666666666666, \"#ed7953\"], [0.7777777777777778, \"#fb9f3a\"], [0.8888888888888888, \"#fdca26\"], [1.0, \"#f0f921\"]], \"type\": \"surface\"}], \"table\": [{\"cells\": {\"fill\": {\"color\": \"#EBF0F8\"}, \"line\": {\"color\": \"white\"}}, \"header\": {\"fill\": {\"color\": \"#C8D4E3\"}, \"line\": {\"color\": \"white\"}}, \"type\": \"table\"}]}, \"layout\": {\"annotationdefaults\": {\"arrowcolor\": \"#2a3f5f\", \"arrowhead\": 0, \"arrowwidth\": 1}, \"coloraxis\": {\"colorbar\": {\"outlinewidth\": 0, \"ticks\": \"\"}}, \"colorscale\": {\"diverging\": [[0, \"#8e0152\"], [0.1, \"#c51b7d\"], [0.2, \"#de77ae\"], [0.3, \"#f1b6da\"], [0.4, \"#fde0ef\"], [0.5, \"#f7f7f7\"], [0.6, \"#e6f5d0\"], [0.7, \"#b8e186\"], [0.8, \"#7fbc41\"], [0.9, \"#4d9221\"], [1, \"#276419\"]], \"sequential\": [[0.0, \"#0d0887\"], [0.1111111111111111, \"#46039f\"], [0.2222222222222222, \"#7201a8\"], [0.3333333333333333, \"#9c179e\"], [0.4444444444444444, \"#bd3786\"], [0.5555555555555556, \"#d8576b\"], [0.6666666666666666, \"#ed7953\"], [0.7777777777777778, \"#fb9f3a\"], [0.8888888888888888, \"#fdca26\"], [1.0, \"#f0f921\"]], \"sequentialminus\": [[0.0, \"#0d0887\"], [0.1111111111111111, \"#46039f\"], [0.2222222222222222, \"#7201a8\"], [0.3333333333333333, \"#9c179e\"], [0.4444444444444444, \"#bd3786\"], [0.5555555555555556, \"#d8576b\"], [0.6666666666666666, \"#ed7953\"], [0.7777777777777778, \"#fb9f3a\"], [0.8888888888888888, \"#fdca26\"], [1.0, \"#f0f921\"]]}, \"colorway\": [\"#636efa\", \"#EF553B\", \"#00cc96\", \"#ab63fa\", \"#FFA15A\", \"#19d3f3\", \"#FF6692\", \"#B6E880\", \"#FF97FF\", \"#FECB52\"], \"font\": {\"color\": \"#2a3f5f\"}, \"geo\": {\"bgcolor\": \"white\", \"lakecolor\": \"white\", \"landcolor\": \"#E5ECF6\", \"showlakes\": true, \"showland\": true, \"subunitcolor\": \"white\"}, \"hoverlabel\": {\"align\": \"left\"}, \"hovermode\": \"closest\", \"mapbox\": {\"style\": \"light\"}, \"paper_bgcolor\": \"white\", \"plot_bgcolor\": \"#E5ECF6\", \"polar\": {\"angularaxis\": {\"gridcolor\": \"white\", \"linecolor\": \"white\", \"ticks\": \"\"}, \"bgcolor\": \"#E5ECF6\", \"radialaxis\": {\"gridcolor\": \"white\", \"linecolor\": \"white\", \"ticks\": \"\"}}, \"scene\": {\"xaxis\": {\"backgroundcolor\": \"#E5ECF6\", \"gridcolor\": \"white\", \"gridwidth\": 2, \"linecolor\": \"white\", \"showbackground\": true, \"ticks\": \"\", \"zerolinecolor\": \"white\"}, \"yaxis\": {\"backgroundcolor\": \"#E5ECF6\", \"gridcolor\": \"white\", \"gridwidth\": 2, \"linecolor\": \"white\", \"showbackground\": true, \"ticks\": \"\", \"zerolinecolor\": \"white\"}, \"zaxis\": {\"backgroundcolor\": \"#E5ECF6\", \"gridcolor\": \"white\", \"gridwidth\": 2, \"linecolor\": \"white\", \"showbackground\": true, \"ticks\": \"\", \"zerolinecolor\": \"white\"}}, \"shapedefaults\": {\"line\": {\"color\": \"#2a3f5f\"}}, \"ternary\": {\"aaxis\": {\"gridcolor\": \"white\", \"linecolor\": \"white\", \"ticks\": \"\"}, \"baxis\": {\"gridcolor\": \"white\", \"linecolor\": \"white\", \"ticks\": \"\"}, \"bgcolor\": \"#E5ECF6\", \"caxis\": {\"gridcolor\": \"white\", \"linecolor\": \"white\", \"ticks\": \"\"}}, \"title\": {\"x\": 0.05}, \"xaxis\": {\"automargin\": true, \"gridcolor\": \"white\", \"linecolor\": \"white\", \"ticks\": \"\", \"title\": {\"standoff\": 15}, \"zerolinecolor\": \"white\", \"zerolinewidth\": 2}, \"yaxis\": {\"automargin\": true, \"gridcolor\": \"white\", \"linecolor\": \"white\", \"ticks\": \"\", \"title\": {\"standoff\": 15}, \"zerolinecolor\": \"white\", \"zerolinewidth\": 2}}}, \"title\": {\"text\": \"Classification of Network Traffic of All Honeypot Websites Excluding SEC509 Attacks\"}, \"width\": 1000, \"xaxis\": {\"tickfont\": {\"size\": 15}}, \"yaxis\": {\"tickfont\": {\"size\": 14}, \"title\": {\"font\": {\"size\": 16}, \"text\": \"Counts\"}}},\n",
              "                        {\"responsive\": true}\n",
              "                    ).then(function(){\n",
              "                            \n",
              "var gd = document.getElementById('e740de0a-5bc2-4dab-bdc3-18560f69dd59');\n",
              "var x = new MutationObserver(function (mutations, observer) {{\n",
              "        var display = window.getComputedStyle(gd).display;\n",
              "        if (!display || display === 'none') {{\n",
              "            console.log([gd, 'removed!']);\n",
              "            Plotly.purge(gd);\n",
              "            observer.disconnect();\n",
              "        }}\n",
              "}});\n",
              "\n",
              "// Listen for the removal of the full notebook cells\n",
              "var notebookContainer = gd.closest('#notebook-container');\n",
              "if (notebookContainer) {{\n",
              "    x.observe(notebookContainer, {childList: true});\n",
              "}}\n",
              "\n",
              "// Listen for the clearing of the current output cell\n",
              "var outputEl = gd.closest('.output');\n",
              "if (outputEl) {{\n",
              "    x.observe(outputEl, {childList: true});\n",
              "}}\n",
              "\n",
              "                        })\n",
              "                };\n",
              "                \n",
              "            </script>\n",
              "        </div>\n",
              "</body>\n",
              "</html>"
            ]
          },
          "metadata": {
            "tags": []
          }
        }
      ]
    }
  ]
}