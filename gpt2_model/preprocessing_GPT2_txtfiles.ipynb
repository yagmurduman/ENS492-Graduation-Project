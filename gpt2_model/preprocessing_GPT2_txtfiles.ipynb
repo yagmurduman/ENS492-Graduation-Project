{
  "nbformat": 4,
  "nbformat_minor": 0,
  "metadata": {
    "colab": {
      "name": "preprocessing_GPT2_txtfiles.ipynb",
      "provenance": [],
      "collapsed_sections": []
    },
    "kernelspec": {
      "name": "python3",
      "display_name": "Python 3"
    },
    "language_info": {
      "name": "python"
    }
  },
  "cells": [
    {
      "cell_type": "code",
      "metadata": {
        "id": "obD4wpkYClyB"
      },
      "source": [
        "import pandas as pd\n",
        "from sklearn.model_selection import train_test_split\n",
        "import os"
      ],
      "execution_count": null,
      "outputs": []
    },
    {
      "cell_type": "code",
      "metadata": {
        "colab": {
          "base_uri": "https://localhost:8080/"
        },
        "id": "zesK_BymC4J9",
        "outputId": "7becaf34-958c-421e-ab1b-4a0ed2cf4f28"
      },
      "source": [
        "\"\"\"run this cell if you haven't mounted the drive before\"\"\"\n",
        "from google.colab import drive\n",
        "drive.mount('/content/gdrive/')"
      ],
      "execution_count": null,
      "outputs": [
        {
          "output_type": "stream",
          "text": [
            "Mounted at /content/gdrive/\n"
          ],
          "name": "stdout"
        }
      ]
    },
    {
      "cell_type": "markdown",
      "metadata": {
        "id": "V8gEe1N5OeRh"
      },
      "source": [
        "### Change the path to your csv file"
      ]
    },
    {
      "cell_type": "code",
      "metadata": {
        "id": "wx2bkRKGDEh0"
      },
      "source": [
        "file_path = r\"/content/gdrive/MyDrive/Ens_data/articles/entertainment_05_05.csv\"\n",
        "df = pd.read_csv(file_path, encoding='utf-8', sep=',', usecols=['headline', 'content'])"
      ],
      "execution_count": null,
      "outputs": []
    },
    {
      "cell_type": "code",
      "metadata": {
        "colab": {
          "base_uri": "https://localhost:8080/",
          "height": 103
        },
        "id": "GyJ2X74KfrZg",
        "outputId": "3a9e671e-b7cf-4b4d-c251-5926ca5345e7"
      },
      "source": [
        "df['content'][17]"
      ],
      "execution_count": null,
      "outputs": [
        {
          "output_type": "execute_result",
          "data": {
            "application/vnd.google.colaboratory.intrinsic+json": {
              "type": "string"
            },
            "text/plain": [
              "'[\\'&lt;p&gt;Police have confirmed they have received a third party report relating to allegations of sexual offences by a man, following recent claims against actor Noel Clarke. &lt;p&gt;&lt;p&gt;The Met Police said they had received a report on 21 April and officers were assessing the information but there was currently no investigation. &lt;p&gt;&lt;p&gt;It comes after 20 women accused Clarke of sexual harassment and bullying. &lt;p&gt;&lt;p&gt;He has \"vehemently\" denied any sexual misconduct or criminal wrongdoing. &lt;p&gt;&lt;p&gt;The Met Police said in a statement: \"On Wednesday, 21 April, police received a third party report relating to allegations of sexual offences allegedly committed by a male over a period of time.\"&lt;p&gt;&lt;p&gt;A third party report is anonymous so the allegation cannot be investigated by the police. However, it can be used as intelligence, for example to see if it matches with other reports against the same person.&lt;p&gt;&lt;p&gt;The BBC does not know who made the report to the police.&lt;p&gt;&lt;p&gt;Meanwhile, the Guardian, which first reported allegations against Clarke on Thursday, said six more people had now come forward with claims of misconduct, including former students at the London School of Dramatic Art (LSDA). &lt;p&gt;&lt;p&gt;In a statement, Jake Taylor, principal and founder of the school, said Clarke, ran an \"unsanctioned\" practical acting workshop where he \"set up improvisation exercises in which the students were told they had to get undressed and get ready for bed\". &lt;p&gt;&lt;p&gt;In response the school stopped Clarke taking unsupervised sessions \"with immediate effect\", he said. &lt;p&gt;&lt;p&gt;Mr Taylor said Clarke had not been active at LSDA since 2015 and their professional relationship had ended. &lt;p&gt;&lt;p&gt;On Friday, Mr Taylor said the school had been provided with further details about what happened at the session, as well as another session \"previously unknown to us\". &lt;p&gt;&lt;p&gt;\"Had we known about these details at the time we would have ended the professional relationship between Noel and our school with immediate effect,\" he added. &lt;p&gt;&lt;p&gt;In response to the allegations, Clarke\\\\\\'s lawyers denied that the LSDA had ever asked him to stop giving his classes, and said the workshop, called Facing Your Fears, was intended to help students with anxieties over their acting roles, helping to \"normalise\" the removal of outer clothing in a safe environment. &lt;p&gt;&lt;p&gt;His lawyers told the Guardian Clarke categorically denied he encouraged or forced anyone to be naked as part of the workshop, which they said was open to and attended by both male and female adult students. &lt;p&gt;&lt;p&gt;Clarke made it clear it was not obligatory to participate, they added. &lt;p&gt;&lt;p&gt;On Thursday the Guardian reported allegations of harassment and bullying from women who knew Clarke in a professional capacity. &lt;p&gt;&lt;p&gt;The following day, before the LSDA allegations were published, Clarke said he was \"deeply sorry\" for some of his actions and would seek professional help. &lt;p&gt;&lt;p&gt;However, he \"vehemently\" denied any sexual misconduct or criminal wrongdoing.&lt;p&gt;&lt;p&gt;\"Recent reports however have made it clear to me that some of my actions have affected people in ways I did not intend or realise,\" he said in a statement.&lt;p&gt;&lt;p&gt;\"To those individuals, I am deeply sorry. I will be seeking professional help to educate myself and change for the better.\"&lt;p&gt;&lt;p&gt;ITV decided not to broadcast Friday\\\\\\'s final episode of police drama Viewpoint, in which he stars, as a result of the allegations.&lt;p&gt;&lt;p&gt;Sky has also \"halted\" its work with Clarke, including on the fourth series of crime drama Bulletproof.&lt;p&gt;&lt;p&gt;And he has been suspended by Bafta, almost three weeks after the British film and television academy gave him an award for his outstanding contribution.&lt;p&gt;&lt;p&gt;Bafta has been criticised by some for honouring Clarke on 10 April. It had received reports of allegations against the actor in the 12 days between announcing him as the award recipient and the ceremony itself.&lt;p&gt;&lt;p&gt;According to the Guardian, Bafta\\\\\\'s chairman Krishnendu Majumdar said he had heard that as many as 12 women could be making allegations.&lt;p&gt;&lt;p&gt;In a letter to members in which it defended its response, Bafta said the emails it received \"were either anonymous or second or third-hand accounts via intermediaries\".&lt;p&gt;&lt;p&gt;\"No names, times, dates, productions or other details were ever provided,\" it said. &lt;p&gt;&lt;p&gt;\"Had the victims gone on record as they have with the Guardian, the award would have been suspended immediately.\"&lt;p&gt;&lt;p&gt;Clarke, 45, is known for playing Mickey Smith in Doctor Who from 2005-10, and for his film trilogy Kidulthood, Adulthood and Brotherhood. He is also a writer, director and producer.&lt;p&gt;\\']'"
            ]
          },
          "metadata": {
            "tags": []
          },
          "execution_count": 12
        }
      ]
    },
    {
      "cell_type": "code",
      "metadata": {
        "colab": {
          "base_uri": "https://localhost:8080/"
        },
        "id": "RaF970DNkHoL",
        "outputId": "5776f9c7-dae9-48c1-dc59-8144a685b895"
      },
      "source": [
        "### text = text.replace(\"&lt;p&gt;\", \"\")\n",
        "print(len(df))"
      ],
      "execution_count": null,
      "outputs": [
        {
          "output_type": "stream",
          "text": [
            "1310\n"
          ],
          "name": "stdout"
        }
      ]
    },
    {
      "cell_type": "markdown",
      "metadata": {
        "id": "TN8P_dPTbqkL"
      },
      "source": [
        "## Preprocessing"
      ]
    },
    {
      "cell_type": "markdown",
      "metadata": {
        "id": "t0qTg-tgeAnM"
      },
      "source": [
        "Split train and validation dataset then write them into txt with new tokens (boh, eoh, bos, eos)"
      ]
    },
    {
      "cell_type": "code",
      "metadata": {
        "id": "N7Zt1JYvEJUj"
      },
      "source": [
        "df_train, df_valid = train_test_split(df, train_size = 0.9, random_state = 1)"
      ],
      "execution_count": null,
      "outputs": []
    },
    {
      "cell_type": "code",
      "metadata": {
        "colab": {
          "base_uri": "https://localhost:8080/"
        },
        "id": "8tU6g10ra9xQ",
        "outputId": "d1437366-6f41-4856-c57e-02c7eb5cf856"
      },
      "source": [
        "print(\"Number of samples of training: \", len(df_train))\n",
        "print(\"Number of samples of validation: \", len(df_valid))"
      ],
      "execution_count": null,
      "outputs": [
        {
          "output_type": "stream",
          "text": [
            "Number of samples of training:  1179\n",
            "Number of samples of validation:  131\n"
          ],
          "name": "stdout"
        }
      ]
    },
    {
      "cell_type": "code",
      "metadata": {
        "id": "ZN73mHFbf16e"
      },
      "source": [
        "bos_token = '<BOS>'\n",
        "eos_token = '<EOS>'\n",
        "\n",
        "def build_dataset(df, dest_path):\n",
        "  outputFile = open(dest_path, 'w', encoding='utf-8')\n",
        "  data = ''\n",
        "  for index in range (len(df)):\n",
        "    headline = df['headline'][index]\n",
        "    headline = str(headline).strip()\n",
        "    context = df['content'][index]\n",
        "    context = str(context).strip()\n",
        "    data += bos_token + ' ' + headline + ' ' + context[2:-2]  + ' ' + eos_token + '\\n'\n",
        "\n",
        "  outputFile.write(data)"
      ],
      "execution_count": null,
      "outputs": []
    },
    {
      "cell_type": "code",
      "metadata": {
        "id": "cWcrBgVRii_x"
      },
      "source": [
        "df_train = df_train.reset_index(drop=True)\n",
        "df_valid = df_valid.reset_index(drop=True)\n",
        "build_dataset(df_train, '/content/gdrive/MyDrive/Ens_data/GPT2_txtdata/train_entertainment.txt')\n",
        "build_dataset(df_valid, '/content/gdrive/MyDrive/Ens_data/GPT2_txtdata/valid_entertainment.txt')"
      ],
      "execution_count": null,
      "outputs": []
    }
  ]
}